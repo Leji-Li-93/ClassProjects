{
 "cells": [
  {
   "cell_type": "markdown",
   "metadata": {},
   "source": [
    "CSC 30100  \n",
    "Project  \n",
    "Leji Li  "
   ]
  },
  {
   "cell_type": "code",
   "execution_count": 1,
   "metadata": {},
   "outputs": [],
   "source": [
    "import struct\n",
    "import gzip\n",
    "import math\n",
    "from pathlib import Path\n",
    "import numpy as np\n",
    "import pandas as pd\n",
    "import matplotlib.pyplot as plt\n",
    "from scipy.optimize import least_squares\n",
    "%matplotlib inline"
   ]
  },
  {
   "cell_type": "code",
   "execution_count": 2,
   "metadata": {},
   "outputs": [],
   "source": [
    "train = dict()\n",
    "test = dict()"
   ]
  },
  {
   "cell_type": "code",
   "execution_count": 3,
   "metadata": {},
   "outputs": [],
   "source": [
    "def get_images(filename):\n",
    "    with gzip.GzipFile(Path('mnist', filename), 'rb') as f:\n",
    "        magic, size, rows, cols = struct.unpack(\">IIII\", f.read(16))\n",
    "        print(magic, size, rows, cols)\n",
    "        images = np.frombuffer(f.read(), dtype= np.dtype('B'))\n",
    "    return images.reshape(size, rows, cols)"
   ]
  },
  {
   "cell_type": "code",
   "execution_count": 4,
   "metadata": {},
   "outputs": [],
   "source": [
    "def get_labels(filename):\n",
    "    with gzip.GzipFile(Path('mnist', filename), 'rb') as f:\n",
    "        magic, num = struct.unpack(\">II\", f.read(8))\n",
    "        labels = np.frombuffer(f.read(), dtype= np.dtype('B'))\n",
    "    return labels"
   ]
  },
  {
   "cell_type": "code",
   "execution_count": 5,
   "metadata": {},
   "outputs": [
    {
     "name": "stdout",
     "output_type": "stream",
     "text": [
      "2051 60000 28 28\n",
      "2051 10000 28 28\n",
      "(60000, 28, 28) (10000, 28, 28)\n"
     ]
    }
   ],
   "source": [
    "train['image'] = get_images('train-images-idx3-ubyte.gz')\n",
    "test['image'] = get_images('t10k-images-idx3-ubyte.gz')\n",
    "print(train['image'].shape, test['image'].shape)"
   ]
  },
  {
   "cell_type": "code",
   "execution_count": 6,
   "metadata": {},
   "outputs": [
    {
     "name": "stdout",
     "output_type": "stream",
     "text": [
      "(60000,) (10000,)\n"
     ]
    }
   ],
   "source": [
    "train['label'] = get_labels('train-labels-idx1-ubyte.gz')\n",
    "test['label'] = get_labels('t10k-labels-idx1-ubyte.gz')\n",
    "print(train['label'].shape, test['label'].shape)"
   ]
  },
  {
   "cell_type": "code",
   "execution_count": 7,
   "metadata": {},
   "outputs": [
    {
     "data": {
      "image/png": "[encoded data removed]",
      "text/plain": [
       "<Figure size 432x288 with 1 Axes>"
      ]
     },
     "metadata": {
      "needs_background": "light"
     },
     "output_type": "display_data"
    }
   ],
   "source": [
    "fig, ax = plt.subplots()\n",
    "_ = ax.imshow(train['image'][555], cmap = 'gray')"
   ]
  },
  {
   "cell_type": "code",
   "execution_count": 8,
   "metadata": {},
   "outputs": [
    {
     "data": {
      "text/plain": [
       "array([0, 1, 2, 3, 4, 5, 6, 7, 8, 9], dtype=uint8)"
      ]
     },
     "execution_count": 8,
     "metadata": {},
     "output_type": "execute_result"
    }
   ],
   "source": [
    "np.unique(train['label'])"
   ]
  },
  {
   "cell_type": "code",
   "execution_count": 9,
   "metadata": {},
   "outputs": [],
   "source": [
    "train_2D = [[],[],[],[],[],[],[],[],[],[]]\n",
    "test_2D = []\n",
    "np.random.seed(42)\n",
    "for i in range(len(train['image'])):\n",
    "    temp = train['image'][i].flatten()\n",
    "    temp = np.append(temp, [1])\n",
    "    train_2D[train['label'][i]].append(temp)\n",
    "for i in range(len(test['image'])):\n",
    "    temp = test['image'][i].flatten()\n",
    "    temp = np.append(temp, [1])\n",
    "    test_2D.append(temp)"
   ]
  },
  {
   "cell_type": "code",
   "execution_count": 10,
   "metadata": {},
   "outputs": [],
   "source": [
    "def get_digit_matrix(target_digit):\n",
    "    length = len(train['image'])\n",
    "    matrix = []\n",
    "    ys = []\n",
    "    matrix += train_2D[target_digit]\n",
    "    ys = [1] * len(matrix)\n",
    "    \n",
    "    upper = round(len(ys) * 1 / 9)\n",
    "    for i in range(upper):\n",
    "        for j in range(10):\n",
    "            if(j != target_digit):\n",
    "                ran = np.random.randint(len(train_2D[j]))\n",
    "                temp = train_2D[j][ran]\n",
    "                matrix.append(temp)\n",
    "                ys.append(-1)\n",
    "                \n",
    "    return matrix, ys"
   ]
  },
  {
   "cell_type": "markdown",
   "metadata": {},
   "source": [
    "***Part 1***"
   ]
  },
  {
   "cell_type": "code",
   "execution_count": 11,
   "metadata": {},
   "outputs": [],
   "source": [
    "def getBeta(target_digit):\n",
    "    \n",
    "    zeros = np.array([0] * 785)\n",
    "    zs = []\n",
    "    matrix, ys = get_digit_matrix(target_digit)\n",
    "    \n",
    "    for xi in matrix:\n",
    "        zeros += xi\n",
    "    \n",
    "    # find the 0s\n",
    "    for i in range(len(zeros)):\n",
    "        if(zeros[i] == 0):\n",
    "            zs.append(i)\n",
    "    # get the beta\n",
    "    np_matrix = np.array(matrix)\n",
    "    np_matrix = np.delete(np_matrix, zs, axis = 1) # take the 0s out\n",
    "    np_ys = np.array(ys) #here's the b\n",
    "    beta = np.linalg.lstsq(np_matrix, np_ys, rcond = None)[0] # solving LS\n",
    "    # put 0s back\n",
    "    for i in zs:\n",
    "        beta = np.insert(beta, i, 0)\n",
    "    return beta"
   ]
  },
  {
   "cell_type": "code",
   "execution_count": 12,
   "metadata": {},
   "outputs": [],
   "source": [
    "def calculate_error(beta, target_digit):\n",
    "    hit_error = 0  # record the amount that doesn't recognize the target digit\n",
    "    hit = 0        # record the amount that successfully recognize the target digit\n",
    "    miss_error = 0 # record the amount that mis-recognize other digits\n",
    "    miss = 0       # record the amount that not recognizing other digits\n",
    "    two_total = 0\n",
    "    length = len(test['label'])\n",
    "    res = [0] * 10\n",
    "    res_err = [0] * 10\n",
    "    for i in range(length):\n",
    "        test_image = test_2D[i]\n",
    "        y = np.dot(test_image, beta)\n",
    "        if(test['label'][i] == target_digit):\n",
    "            two_total += 1\n",
    "            if(y < 0):\n",
    "                hit_error += 1\n",
    "                res_err[target_digit] += 1\n",
    "            else:\n",
    "                hit += 1\n",
    "                res[target_digit] += 1\n",
    "        else:\n",
    "            if(y >= 0):\n",
    "                miss_error += 1\n",
    "                res[test['label'][i]] += 1\n",
    "            else:\n",
    "                miss += 1\n",
    "                res_err[test['label'][i]] += 1\n",
    "    #print(\"Total images that is\", target_digit, \":\", two_total)\n",
    "    #print(\"Image is\", target_digit, \"and recognized:\", hit)\n",
    "    #print(\"Image is\", target_digit, \"but didn't hit:\", hit_error)\n",
    "    #print(\"Other images:\", (len(test['label']) - two_total))\n",
    "    #print(\"Image isn't\", target_digit, \"and skipped:\", miss)\n",
    "    #print(\"Image isn't\", target_digit, \"but recognized:\", miss_error)\n",
    "    \n",
    "    err_sum = 0\n",
    "    print(\"Target is\", target_digit)\n",
    "    for i in range(10):\n",
    "        if(i == target_digit):\n",
    "            err_sum += res_err[i]\n",
    "        else:\n",
    "            err_sum += res[i]\n",
    "        print(\"{0:d} -> recognized: {1:<5d} | not: {2:<5d}\".format(i, res[i], res_err[i]))\n",
    "    print(\"Total correctness:\", \"{:.2f}\".format((100*(length - err_sum)/length)), \"%\")\n",
    "    print(\"-----------------------------------------\")"
   ]
  },
  {
   "cell_type": "code",
   "execution_count": 13,
   "metadata": {},
   "outputs": [],
   "source": [
    "def draw_beta(beta):\n",
    "    beta = np.delete(beta, len(beta) -1)\n",
    "    \n",
    "    fig, ax = plt.subplots()\n",
    "    _ = ax.imshow(beta.reshape(28, 28), cmap = 'gray')"
   ]
  },
  {
   "cell_type": "code",
   "execution_count": 14,
   "metadata": {},
   "outputs": [],
   "source": [
    "betas = []\n",
    "for i in range(10):\n",
    "    betas.append(getBeta(i))"
   ]
  },
  {
   "cell_type": "code",
   "execution_count": 15,
   "metadata": {},
   "outputs": [
    {
     "name": "stdout",
     "output_type": "stream",
     "text": [
      "Target is 0\n",
      "0 -> recognized: 968   | not: 12   \n",
      "1 -> recognized: 0     | not: 1135 \n",
      "2 -> recognized: 48    | not: 984  \n",
      "3 -> recognized: 36    | not: 974  \n",
      "4 -> recognized: 4     | not: 978  \n",
      "5 -> recognized: 47    | not: 845  \n",
      "6 -> recognized: 52    | not: 906  \n",
      "7 -> recognized: 29    | not: 999  \n",
      "8 -> recognized: 15    | not: 959  \n",
      "9 -> recognized: 14    | not: 995  \n",
      "Total correctness: 97.43 %\n",
      "-----------------------------------------\n",
      "Target is 1\n",
      "0 -> recognized: 1     | not: 979  \n",
      "1 -> recognized: 1123  | not: 12   \n",
      "2 -> recognized: 117   | not: 915  \n",
      "3 -> recognized: 23    | not: 987  \n",
      "4 -> recognized: 30    | not: 952  \n",
      "5 -> recognized: 22    | not: 870  \n",
      "6 -> recognized: 20    | not: 938  \n",
      "7 -> recognized: 51    | not: 977  \n",
      "8 -> recognized: 71    | not: 903  \n",
      "9 -> recognized: 10    | not: 999  \n",
      "Total correctness: 96.43 %\n",
      "-----------------------------------------\n",
      "Target is 2\n",
      "0 -> recognized: 40    | not: 940  \n",
      "1 -> recognized: 77    | not: 1058 \n",
      "2 -> recognized: 945   | not: 87   \n",
      "3 -> recognized: 96    | not: 914  \n",
      "4 -> recognized: 18    | not: 964  \n",
      "5 -> recognized: 16    | not: 876  \n",
      "6 -> recognized: 51    | not: 907  \n",
      "7 -> recognized: 46    | not: 982  \n",
      "8 -> recognized: 20    | not: 954  \n",
      "9 -> recognized: 11    | not: 998  \n",
      "Total correctness: 95.38 %\n",
      "-----------------------------------------\n",
      "Target is 3\n",
      "0 -> recognized: 15    | not: 965  \n",
      "1 -> recognized: 43    | not: 1092 \n",
      "2 -> recognized: 163   | not: 869  \n",
      "3 -> recognized: 955   | not: 55   \n",
      "4 -> recognized: 26    | not: 956  \n",
      "5 -> recognized: 210   | not: 682  \n",
      "6 -> recognized: 7     | not: 951  \n",
      "7 -> recognized: 78    | not: 950  \n",
      "8 -> recognized: 92    | not: 882  \n",
      "9 -> recognized: 41    | not: 968  \n",
      "Total correctness: 92.70 %\n",
      "-----------------------------------------\n",
      "Target is 4\n",
      "0 -> recognized: 16    | not: 964  \n",
      "1 -> recognized: 5     | not: 1130 \n",
      "2 -> recognized: 51    | not: 981  \n",
      "3 -> recognized: 14    | not: 996  \n",
      "4 -> recognized: 954   | not: 28   \n",
      "5 -> recognized: 73    | not: 819  \n",
      "6 -> recognized: 56    | not: 902  \n",
      "7 -> recognized: 89    | not: 939  \n",
      "8 -> recognized: 27    | not: 947  \n",
      "9 -> recognized: 232   | not: 777  \n",
      "Total correctness: 94.09 %\n",
      "-----------------------------------------\n",
      "Target is 5\n",
      "0 -> recognized: 154   | not: 826  \n",
      "1 -> recognized: 32    | not: 1103 \n",
      "2 -> recognized: 29    | not: 1003 \n",
      "3 -> recognized: 309   | not: 701  \n",
      "4 -> recognized: 41    | not: 941  \n",
      "5 -> recognized: 843   | not: 49   \n",
      "6 -> recognized: 139   | not: 819  \n",
      "7 -> recognized: 32    | not: 996  \n",
      "8 -> recognized: 154   | not: 820  \n",
      "9 -> recognized: 50    | not: 959  \n",
      "Total correctness: 90.11 %\n",
      "-----------------------------------------\n",
      "Target is 6\n",
      "0 -> recognized: 90    | not: 890  \n",
      "1 -> recognized: 5     | not: 1130 \n",
      "2 -> recognized: 96    | not: 936  \n",
      "3 -> recognized: 22    | not: 988  \n",
      "4 -> recognized: 27    | not: 955  \n",
      "5 -> recognized: 48    | not: 844  \n",
      "6 -> recognized: 931   | not: 27   \n",
      "7 -> recognized: 10    | not: 1018 \n",
      "8 -> recognized: 37    | not: 937  \n",
      "9 -> recognized: 2     | not: 1007 \n",
      "Total correctness: 96.36 %\n",
      "-----------------------------------------\n",
      "Target is 7\n",
      "0 -> recognized: 15    | not: 965  \n",
      "1 -> recognized: 8     | not: 1127 \n",
      "2 -> recognized: 54    | not: 978  \n",
      "3 -> recognized: 57    | not: 953  \n",
      "4 -> recognized: 39    | not: 943  \n",
      "5 -> recognized: 44    | not: 848  \n",
      "6 -> recognized: 9     | not: 949  \n",
      "7 -> recognized: 982   | not: 46   \n",
      "8 -> recognized: 21    | not: 953  \n",
      "9 -> recognized: 178   | not: 831  \n",
      "Total correctness: 95.29 %\n",
      "-----------------------------------------\n",
      "Target is 8\n",
      "0 -> recognized: 54    | not: 926  \n",
      "1 -> recognized: 224   | not: 911  \n",
      "2 -> recognized: 167   | not: 865  \n",
      "3 -> recognized: 103   | not: 907  \n",
      "4 -> recognized: 47    | not: 935  \n",
      "5 -> recognized: 207   | not: 685  \n",
      "6 -> recognized: 61    | not: 897  \n",
      "7 -> recognized: 21    | not: 1007 \n",
      "8 -> recognized: 885   | not: 89   \n",
      "9 -> recognized: 43    | not: 966  \n",
      "Total correctness: 89.84 %\n",
      "-----------------------------------------\n",
      "Target is 9\n",
      "0 -> recognized: 16    | not: 964  \n",
      "1 -> recognized: 0     | not: 1135 \n",
      "2 -> recognized: 41    | not: 991  \n",
      "3 -> recognized: 56    | not: 954  \n",
      "4 -> recognized: 306   | not: 676  \n",
      "5 -> recognized: 57    | not: 835  \n",
      "6 -> recognized: 12    | not: 946  \n",
      "7 -> recognized: 445   | not: 583  \n",
      "8 -> recognized: 66    | not: 908  \n",
      "9 -> recognized: 937   | not: 72   \n",
      "Total correctness: 89.29 %\n",
      "-----------------------------------------\n"
     ]
    }
   ],
   "source": [
    "for i in range(10):\n",
    "    calculate_error(betas[i], i)"
   ]
  },
  {
   "cell_type": "markdown",
   "metadata": {},
   "source": [
    "***Part 2***"
   ]
  },
  {
   "cell_type": "code",
   "execution_count": 16,
   "metadata": {},
   "outputs": [],
   "source": [
    "def get_beta_lambda(target_digit_matrix, y_matrix, lamb):\n",
    "    matrix = []\n",
    "    ys = []\n",
    "    for i in range(784):\n",
    "        temp = [0] * 785\n",
    "        temp[i] = math.sqrt(lamb)\n",
    "        matrix.append(np.array(temp))\n",
    "        ys.append(0)\n",
    "    matrix += target_digit_matrix\n",
    "    ys += y_matrix\n",
    "    np_matrix = np.array(matrix)\n",
    "    np_ys = np.array(ys)\n",
    "    beta = np.linalg.lstsq(np_matrix, np_ys, rcond = None)[0]\n",
    "    return beta"
   ]
  },
  {
   "cell_type": "code",
   "execution_count": 17,
   "metadata": {},
   "outputs": [],
   "source": [
    "def get_norms(target_matrix, y_matrix, beta):\n",
    "    r = np.matmul(target_matrix, beta) - y_matrix\n",
    "    r_norm = np.linalg.norm(r)\n",
    "    b = beta[:-1]\n",
    "    beta_norm = np.linalg.norm(b)\n",
    "    return r_norm, beta_norm"
   ]
  },
  {
   "cell_type": "code",
   "execution_count": 18,
   "metadata": {},
   "outputs": [],
   "source": [
    "target = 0\n",
    "target_matrix, y_matrix = get_digit_matrix(target)\n",
    "betas_2 = []\n",
    "lambs = []\n",
    "index = []\n",
    "for i in range(0, 12):\n",
    "    index.append(i)\n",
    "    lambs.append(10**i)\n",
    "    betas_2.append(get_beta_lambda(target_matrix, y_matrix, 10**i))\n",
    "r_norms = []\n",
    "b_norms = []\n",
    "for b in betas_2:\n",
    "    r_n, b_n = get_norms(target_matrix, y_matrix, b)\n",
    "    r_norms.append(r_n)\n",
    "    b_norms.append(b_n)"
   ]
  },
  {
   "cell_type": "code",
   "execution_count": 19,
   "metadata": {},
   "outputs": [
    {
     "data": {
      "text/plain": [
       "Text(0.5, 0, '$||\\\\hat{y} - y||_2$')"
      ]
     },
     "execution_count": 19,
     "metadata": {},
     "output_type": "execute_result"
    },
    {
     "data": {
      "image/png": "[encoded data removed]",
      "text/plain": [
       "<Figure size 432x288 with 1 Axes>"
      ]
     },
     "metadata": {
      "needs_background": "light"
     },
     "output_type": "display_data"
    }
   ],
   "source": [
    "plt.plot(r_norms[0:10], b_norms[0:10], marker='o')\n",
    "plt.ylabel(r'$||\\beta||_2$')\n",
    "plt.xlabel(r'$||\\hat{y} - y||_2$')"
   ]
  },
  {
   "cell_type": "code",
   "execution_count": 20,
   "metadata": {},
   "outputs": [
    {
     "name": "stdout",
     "output_type": "stream",
     "text": [
      "We can use the lambda = 100000\n"
     ]
    }
   ],
   "source": [
    "print(\"We can use the lambda =\", lambs[5])"
   ]
  },
  {
   "cell_type": "markdown",
   "metadata": {},
   "source": [
    "From the graph above, we can see that after the 6th point, the solution norm is not changing as rapidly as the previous points. So we can consider the 6th $\\lambda$ is good enough."
   ]
  },
  {
   "cell_type": "code",
   "execution_count": 21,
   "metadata": {},
   "outputs": [
    {
     "name": "stdout",
     "output_type": "stream",
     "text": [
      "Good enough lambda\n",
      "Target is 0\n",
      "0 -> recognized: 969   | not: 11   \n",
      "1 -> recognized: 0     | not: 1135 \n",
      "2 -> recognized: 49    | not: 983  \n",
      "3 -> recognized: 36    | not: 974  \n",
      "4 -> recognized: 5     | not: 977  \n",
      "5 -> recognized: 42    | not: 850  \n",
      "6 -> recognized: 43    | not: 915  \n",
      "7 -> recognized: 21    | not: 1007 \n",
      "8 -> recognized: 15    | not: 959  \n",
      "9 -> recognized: 14    | not: 995  \n",
      "Total correctness: 97.64 %\n",
      "-----------------------------------------\n"
     ]
    }
   ],
   "source": [
    "print(\"Good enough lambda\")\n",
    "calculate_error(betas_2[5], 0)"
   ]
  },
  {
   "cell_type": "code",
   "execution_count": 22,
   "metadata": {},
   "outputs": [
    {
     "name": "stdout",
     "output_type": "stream",
     "text": [
      "the 1 lambda:\n",
      "Target is 0\n",
      "0 -> recognized: 969   | not: 11   \n",
      "1 -> recognized: 0     | not: 1135 \n",
      "2 -> recognized: 50    | not: 982  \n",
      "3 -> recognized: 39    | not: 971  \n",
      "4 -> recognized: 5     | not: 977  \n",
      "5 -> recognized: 39    | not: 853  \n",
      "6 -> recognized: 45    | not: 913  \n",
      "7 -> recognized: 32    | not: 996  \n",
      "8 -> recognized: 16    | not: 958  \n",
      "9 -> recognized: 16    | not: 993  \n",
      "Total correctness: 97.47 %\n",
      "-----------------------------------------\n",
      "the 2 lambda:\n",
      "Target is 0\n",
      "0 -> recognized: 969   | not: 11   \n",
      "1 -> recognized: 0     | not: 1135 \n",
      "2 -> recognized: 52    | not: 980  \n",
      "3 -> recognized: 39    | not: 971  \n",
      "4 -> recognized: 4     | not: 978  \n",
      "5 -> recognized: 39    | not: 853  \n",
      "6 -> recognized: 45    | not: 913  \n",
      "7 -> recognized: 32    | not: 996  \n",
      "8 -> recognized: 16    | not: 958  \n",
      "9 -> recognized: 16    | not: 993  \n",
      "Total correctness: 97.46 %\n",
      "-----------------------------------------\n",
      "the 3 lambda:\n",
      "Target is 0\n",
      "0 -> recognized: 969   | not: 11   \n",
      "1 -> recognized: 0     | not: 1135 \n",
      "2 -> recognized: 52    | not: 980  \n",
      "3 -> recognized: 40    | not: 970  \n",
      "4 -> recognized: 4     | not: 978  \n",
      "5 -> recognized: 40    | not: 852  \n",
      "6 -> recognized: 46    | not: 912  \n",
      "7 -> recognized: 29    | not: 999  \n",
      "8 -> recognized: 16    | not: 958  \n",
      "9 -> recognized: 15    | not: 994  \n",
      "Total correctness: 97.47 %\n",
      "-----------------------------------------\n",
      "the 4 lambda:\n",
      "Target is 0\n",
      "0 -> recognized: 969   | not: 11   \n",
      "1 -> recognized: 0     | not: 1135 \n",
      "2 -> recognized: 49    | not: 983  \n",
      "3 -> recognized: 38    | not: 972  \n",
      "4 -> recognized: 4     | not: 978  \n",
      "5 -> recognized: 40    | not: 852  \n",
      "6 -> recognized: 45    | not: 913  \n",
      "7 -> recognized: 25    | not: 1003 \n",
      "8 -> recognized: 16    | not: 958  \n",
      "9 -> recognized: 15    | not: 994  \n",
      "Total correctness: 97.57 %\n",
      "-----------------------------------------\n",
      "the 5 lambda:\n",
      "Target is 0\n",
      "0 -> recognized: 969   | not: 11   \n",
      "1 -> recognized: 0     | not: 1135 \n",
      "2 -> recognized: 48    | not: 984  \n",
      "3 -> recognized: 37    | not: 973  \n",
      "4 -> recognized: 4     | not: 978  \n",
      "5 -> recognized: 39    | not: 853  \n",
      "6 -> recognized: 45    | not: 913  \n",
      "7 -> recognized: 23    | not: 1005 \n",
      "8 -> recognized: 15    | not: 959  \n",
      "9 -> recognized: 13    | not: 996  \n",
      "Total correctness: 97.65 %\n",
      "-----------------------------------------\n",
      "the 6 lambda:\n",
      "Target is 0\n",
      "0 -> recognized: 969   | not: 11   \n",
      "1 -> recognized: 0     | not: 1135 \n",
      "2 -> recognized: 49    | not: 983  \n",
      "3 -> recognized: 36    | not: 974  \n",
      "4 -> recognized: 5     | not: 977  \n",
      "5 -> recognized: 42    | not: 850  \n",
      "6 -> recognized: 43    | not: 915  \n",
      "7 -> recognized: 21    | not: 1007 \n",
      "8 -> recognized: 15    | not: 959  \n",
      "9 -> recognized: 14    | not: 995  \n",
      "Total correctness: 97.64 %\n",
      "-----------------------------------------\n",
      "the 7 lambda:\n",
      "Target is 0\n",
      "0 -> recognized: 969   | not: 11   \n",
      "1 -> recognized: 0     | not: 1135 \n",
      "2 -> recognized: 44    | not: 988  \n",
      "3 -> recognized: 36    | not: 974  \n",
      "4 -> recognized: 4     | not: 978  \n",
      "5 -> recognized: 40    | not: 852  \n",
      "6 -> recognized: 43    | not: 915  \n",
      "7 -> recognized: 20    | not: 1008 \n",
      "8 -> recognized: 15    | not: 959  \n",
      "9 -> recognized: 14    | not: 995  \n",
      "Total correctness: 97.73 %\n",
      "-----------------------------------------\n",
      "the 8 lambda:\n",
      "Target is 0\n",
      "0 -> recognized: 969   | not: 11   \n",
      "1 -> recognized: 0     | not: 1135 \n",
      "2 -> recognized: 47    | not: 985  \n",
      "3 -> recognized: 33    | not: 977  \n",
      "4 -> recognized: 3     | not: 979  \n",
      "5 -> recognized: 43    | not: 849  \n",
      "6 -> recognized: 41    | not: 917  \n",
      "7 -> recognized: 19    | not: 1009 \n",
      "8 -> recognized: 16    | not: 958  \n",
      "9 -> recognized: 14    | not: 995  \n",
      "Total correctness: 97.73 %\n",
      "-----------------------------------------\n",
      "the 9 lambda:\n",
      "Target is 0\n",
      "0 -> recognized: 968   | not: 12   \n",
      "1 -> recognized: 0     | not: 1135 \n",
      "2 -> recognized: 46    | not: 986  \n",
      "3 -> recognized: 31    | not: 979  \n",
      "4 -> recognized: 2     | not: 980  \n",
      "5 -> recognized: 45    | not: 847  \n",
      "6 -> recognized: 40    | not: 918  \n",
      "7 -> recognized: 22    | not: 1006 \n",
      "8 -> recognized: 14    | not: 960  \n",
      "9 -> recognized: 15    | not: 994  \n",
      "Total correctness: 97.73 %\n",
      "-----------------------------------------\n",
      "the 10 lambda:\n",
      "Target is 0\n",
      "0 -> recognized: 952   | not: 28   \n",
      "1 -> recognized: 0     | not: 1135 \n",
      "2 -> recognized: 49    | not: 983  \n",
      "3 -> recognized: 35    | not: 975  \n",
      "4 -> recognized: 3     | not: 979  \n",
      "5 -> recognized: 39    | not: 853  \n",
      "6 -> recognized: 57    | not: 901  \n",
      "7 -> recognized: 22    | not: 1006 \n",
      "8 -> recognized: 18    | not: 956  \n",
      "9 -> recognized: 18    | not: 991  \n",
      "Total correctness: 97.31 %\n",
      "-----------------------------------------\n",
      "the 11 lambda:\n",
      "Target is 0\n",
      "0 -> recognized: 913   | not: 67   \n",
      "1 -> recognized: 0     | not: 1135 \n",
      "2 -> recognized: 65    | not: 967  \n",
      "3 -> recognized: 53    | not: 957  \n",
      "4 -> recognized: 8     | not: 974  \n",
      "5 -> recognized: 84    | not: 808  \n",
      "6 -> recognized: 102   | not: 856  \n",
      "7 -> recognized: 13    | not: 1015 \n",
      "8 -> recognized: 39    | not: 935  \n",
      "9 -> recognized: 22    | not: 987  \n",
      "Total correctness: 95.47 %\n",
      "-----------------------------------------\n",
      "the 12 lambda:\n",
      "Target is 0\n",
      "0 -> recognized: 904   | not: 76   \n",
      "1 -> recognized: 0     | not: 1135 \n",
      "2 -> recognized: 69    | not: 963  \n",
      "3 -> recognized: 58    | not: 952  \n",
      "4 -> recognized: 11    | not: 971  \n",
      "5 -> recognized: 96    | not: 796  \n",
      "6 -> recognized: 114   | not: 844  \n",
      "7 -> recognized: 12    | not: 1016 \n",
      "8 -> recognized: 48    | not: 926  \n",
      "9 -> recognized: 22    | not: 987  \n",
      "Total correctness: 94.94 %\n",
      "-----------------------------------------\n"
     ]
    }
   ],
   "source": [
    "for i in range(len(betas_2)):\n",
    "    print(\"the\", i+1, \"lambda:\")\n",
    "    calculate_error(betas_2[i], 0)"
   ]
  },
  {
   "cell_type": "markdown",
   "metadata": {},
   "source": [
    "We can see that the correctness rate is increasing from the first $\\lambda$ and reach the highest at the 8th $\\lambda$, which indicate that the 8th $\\lambda$ will be the best solution. After the 8th point, the correctness rate is dropping rapidly."
   ]
  },
  {
   "cell_type": "code",
   "execution_count": 23,
   "metadata": {},
   "outputs": [
    {
     "name": "stdout",
     "output_type": "stream",
     "text": [
      "result of part 1\n",
      "Target is 0\n",
      "0 -> recognized: 968   | not: 12   \n",
      "1 -> recognized: 0     | not: 1135 \n",
      "2 -> recognized: 48    | not: 984  \n",
      "3 -> recognized: 36    | not: 974  \n",
      "4 -> recognized: 4     | not: 978  \n",
      "5 -> recognized: 47    | not: 845  \n",
      "6 -> recognized: 52    | not: 906  \n",
      "7 -> recognized: 29    | not: 999  \n",
      "8 -> recognized: 15    | not: 959  \n",
      "9 -> recognized: 14    | not: 995  \n",
      "Total correctness: 97.43 %\n",
      "-----------------------------------------\n"
     ]
    }
   ],
   "source": [
    "print(\"result of part 1\")\n",
    "calculate_error(betas[0], 0)"
   ]
  },
  {
   "cell_type": "markdown",
   "metadata": {},
   "source": [
    "Comparing with the beta from part 1, the good enough beta works slightly better."
   ]
  },
  {
   "cell_type": "markdown",
   "metadata": {},
   "source": [
    "***Part 3***"
   ]
  },
  {
   "cell_type": "code",
   "execution_count": 24,
   "metadata": {},
   "outputs": [],
   "source": [
    "from sklearn.preprocessing import StandardScaler\n"
   ]
  },
  {
   "cell_type": "code",
   "execution_count": 25,
   "metadata": {},
   "outputs": [],
   "source": [
    "target = train_2D[0]\n",
    "target = np.delete(target, len(target[0]) - 1, axis = 1)\n",
    "target = StandardScaler().fit_transform(target)"
   ]
  },
  {
   "cell_type": "code",
   "execution_count": 26,
   "metadata": {},
   "outputs": [],
   "source": [
    "cov = np.cov(target.T)"
   ]
  },
  {
   "cell_type": "code",
   "execution_count": 27,
   "metadata": {},
   "outputs": [],
   "source": [
    "eig_vals, eig_vecs = np.linalg.eig(cov)"
   ]
  },
  {
   "cell_type": "code",
   "execution_count": 28,
   "metadata": {},
   "outputs": [],
   "source": [
    "eig_pairs = [(np.abs(eig_vals[i]), eig_vecs[:,i]) for i in range(len(eig_vals))]"
   ]
  },
  {
   "cell_type": "code",
   "execution_count": 29,
   "metadata": {},
   "outputs": [],
   "source": [
    "eig_pairs.sort(key = lambda x: x[0], reverse = True)"
   ]
  },
  {
   "cell_type": "code",
   "execution_count": 30,
   "metadata": {},
   "outputs": [
    {
     "data": {
      "image/png": "[encoded data removed]",
      "text/plain": [
       "<Figure size 432x288 with 1 Axes>"
      ]
     },
     "metadata": {
      "needs_background": "light"
     },
     "output_type": "display_data"
    },
    {
     "data": {
      "image/png": "[encoded data removed]",
      "text/plain": [
       "<Figure size 432x288 with 1 Axes>"
      ]
     },
     "metadata": {
      "needs_background": "light"
     },
     "output_type": "display_data"
    },
    {
     "data": {
      "image/png": "[encoded data removed]",
      "text/plain": [
       "<Figure size 432x288 with 1 Axes>"
      ]
     },
     "metadata": {
      "needs_background": "light"
     },
     "output_type": "display_data"
    },
    {
     "data": {
      "image/png": "[encoded data removed]",
      "text/plain": [
       "<Figure size 432x288 with 1 Axes>"
      ]
     },
     "metadata": {
      "needs_background": "light"
     },
     "output_type": "display_data"
    },
    {
     "data": {
      "image/png": "[encoded data removed]",
      "text/plain": [
       "<Figure size 432x288 with 1 Axes>"
      ]
     },
     "metadata": {
      "needs_background": "light"
     },
     "output_type": "display_data"
    },
    {
     "data": {
      "image/png": "[encoded data removed]",
      "text/plain": [
       "<Figure size 432x288 with 1 Axes>"
      ]
     },
     "metadata": {
      "needs_background": "light"
     },
     "output_type": "display_data"
    },
    {
     "data": {
      "image/png": "[encoded data removed]",
      "text/plain": [
       "<Figure size 432x288 with 1 Axes>"
      ]
     },
     "metadata": {
      "needs_background": "light"
     },
     "output_type": "display_data"
    },
    {
     "data": {
      "image/png": "[encoded data removed]",
      "text/plain": [
       "<Figure size 432x288 with 1 Axes>"
      ]
     },
     "metadata": {
      "needs_background": "light"
     },
     "output_type": "display_data"
    },
    {
     "data": {
      "image/png": "[encoded data removed]",
      "text/plain": [
       "<Figure size 432x288 with 1 Axes>"
      ]
     },
     "metadata": {
      "needs_background": "light"
     },
     "output_type": "display_data"
    },
    {
     "data": {
      "image/png": "[encoded data removed]",
      "text/plain": [
       "<Figure size 432x288 with 1 Axes>"
      ]
     },
     "metadata": {
      "needs_background": "light"
     },
     "output_type": "display_data"
    }
   ],
   "source": [
    "for i in range(10):\n",
    "    temp = []\n",
    "    for c in eig_pairs[i][1]:\n",
    "        temp.append(c.real)\n",
    "    temp = np.array(temp)\n",
    "    fig, ax = plt.subplots()\n",
    "    _ = ax.imshow(temp.reshape(28, 28), cmap = 'gray')"
   ]
  },
  {
   "cell_type": "markdown",
   "metadata": {},
   "source": [
    "***4***"
   ]
  },
  {
   "cell_type": "code",
   "execution_count": 31,
   "metadata": {},
   "outputs": [],
   "source": [
    "# because the jacobian matrix is not changing according to the x\n",
    "# make is global s.t. wouldn't calcuate it every time it was called\n",
    "phi_Xs = []\n",
    "yys = []"
   ]
  },
  {
   "cell_type": "code",
   "execution_count": 32,
   "metadata": {},
   "outputs": [],
   "source": [
    "# calculate the phi x\n",
    "def get_phi(x, k):\n",
    "    ekx = math.exp(k*x)\n",
    "    return (ekx)/(1+ekx)"
   ]
  },
  {
   "cell_type": "code",
   "execution_count": 33,
   "metadata": {},
   "outputs": [],
   "source": [
    "# convert the image matrix to phi(x)\n",
    "def get_phi_xs(matrix, k):\n",
    "    temp = []\n",
    "    for row in matrix:\n",
    "        row_temp = []\n",
    "        for i in range(len(row) - 1):\n",
    "            row_temp.append(get_phi(row[i], k))\n",
    "        row_temp.append(1)\n",
    "        temp.append(np.array(row_temp))\n",
    "    temp = np.array(temp)\n",
    "    return temp"
   ]
  },
  {
   "cell_type": "code",
   "execution_count": 34,
   "metadata": {},
   "outputs": [],
   "source": [
    "# function for getting the jacobian matrix\n",
    "# use for the calling of build-in least_squares function\n",
    "def get_jac(x):\n",
    "    global phi_Xs\n",
    "    return phi_Xs"
   ]
  },
  {
   "cell_type": "code",
   "execution_count": 35,
   "metadata": {},
   "outputs": [],
   "source": [
    "# convert the ys from [-1,1] to [0,1]\n",
    "def get_yys(ys):\n",
    "    temp = []\n",
    "    for y in ys:\n",
    "        if (y == 1):\n",
    "            temp.append(1)\n",
    "        else:\n",
    "            temp.append(0)\n",
    "    return np.array(temp)"
   ]
  },
  {
   "cell_type": "code",
   "execution_count": 36,
   "metadata": {},
   "outputs": [],
   "source": [
    "# the function phi(x)*beta - y\n",
    "# the parameter x here is the beta\n",
    "def get_func(x):\n",
    "    global phi_Xs\n",
    "    global yys\n",
    "    temp = []\n",
    "    for i in range(len(phi_Xs)):\n",
    "        row = phi_Xs[i]\n",
    "        y = yys[i]\n",
    "        prod = np.dot(row, x)\n",
    "        temp.append(prod - y)\n",
    "    return np.array(temp)"
   ]
  },
  {
   "cell_type": "code",
   "execution_count": 37,
   "metadata": {},
   "outputs": [],
   "source": [
    "# exam how well is the beta\n",
    "def calculate_error_k(beta, target_digit, k):\n",
    "    hit_error = 0  # record the amount that doesn't recognize the target digit\n",
    "    hit = 0        # record the amount that successfully recognize the target digit\n",
    "    miss_error = 0 # record the amount that mis-recognize other digits\n",
    "    miss = 0       # record the amount that not recognizing other digits\n",
    "    two_total = 0\n",
    "    length = len(test['label'])\n",
    "    res = [0] * 10\n",
    "    res_err = [0] * 10\n",
    "    test_2D_k = get_phi_xs(test_2D, k)\n",
    "    for i in range(length):\n",
    "        test_image = test_2D_k[i]\n",
    "        y = np.dot(test_image, beta)\n",
    "        if(test['label'][i] == target_digit):\n",
    "            two_total += 1\n",
    "            if(y < k/2):\n",
    "                hit_error += 1\n",
    "                res_err[target_digit] += 1\n",
    "            else:\n",
    "                hit += 1\n",
    "                res[target_digit] += 1\n",
    "        else:\n",
    "            if(y >= k/2):\n",
    "                miss_error += 1\n",
    "                res[test['label'][i]] += 1\n",
    "            else:\n",
    "                miss += 1\n",
    "                res_err[test['label'][i]] += 1\n",
    "    \n",
    "    err_sum = 0\n",
    "    print(\"Target is\", target_digit)\n",
    "    for i in range(10):\n",
    "        if(i == target_digit):\n",
    "            err_sum += res_err[i]\n",
    "        else:\n",
    "            err_sum += res[i]\n",
    "        print(\"{0:d} -> recognized: {1:<5d} | not: {2:<5d}\".format(i, res[i], res_err[i]))\n",
    "    print(\"Total correctness:\", \"{:.2f}\".format((100*(length - err_sum)/length)), \"%\")\n",
    "    print(\"-----------------------------------------\")"
   ]
  },
  {
   "cell_type": "code",
   "execution_count": 38,
   "metadata": {},
   "outputs": [],
   "source": [
    "# get the beta\n",
    "def get_beta_k(matrix, k):\n",
    "    global phi_Xs\n",
    "    global yys\n",
    "    index = []\n",
    "    zeros = np.array([0] * 785, dtype = \"float64\")\n",
    "    for row in matrix:\n",
    "        zeros += row\n",
    "    for i in range(len(zeros)):\n",
    "        if(zeros[i] == 0):\n",
    "            index.append(i)\n",
    "    matrix = np.delete(matrix, index, axis = 1)\n",
    "    phi_Xs = get_phi_xs(matrix, k)\n",
    "    initial_guess = np.array([0]*len(phi_Xs[0]))\n",
    "    res = least_squares(get_func, initial_guess, get_jac)\n",
    "    beta = res.x\n",
    "    for i in index:\n",
    "        beta = np.insert(beta, i, 0)\n",
    "    return beta"
   ]
  },
  {
   "cell_type": "code",
   "execution_count": 39,
   "metadata": {},
   "outputs": [],
   "source": [
    "# main entriance of part 4\n",
    "betas_k = []\n",
    "for k in [1, 1.2]:\n",
    "    matrix, ys = get_digit_matrix(0)\n",
    "    yys = get_yys(ys)\n",
    "    betas_k.append(get_beta_k(matrix, k))"
   ]
  },
  {
   "cell_type": "code",
   "execution_count": 40,
   "metadata": {},
   "outputs": [
    {
     "name": "stdout",
     "output_type": "stream",
     "text": [
      "Target is 0\n",
      "0 -> recognized: 967   | not: 13   \n",
      "1 -> recognized: 0     | not: 1135 \n",
      "2 -> recognized: 44    | not: 988  \n",
      "3 -> recognized: 30    | not: 980  \n",
      "4 -> recognized: 1     | not: 981  \n",
      "5 -> recognized: 43    | not: 849  \n",
      "6 -> recognized: 56    | not: 902  \n",
      "7 -> recognized: 27    | not: 1001 \n",
      "8 -> recognized: 17    | not: 957  \n",
      "9 -> recognized: 19    | not: 990  \n",
      "Total correctness: 97.50 %\n",
      "-----------------------------------------\n",
      "Target is 0\n",
      "0 -> recognized: 956   | not: 24   \n",
      "1 -> recognized: 0     | not: 1135 \n",
      "2 -> recognized: 18    | not: 1014 \n",
      "3 -> recognized: 15    | not: 995  \n",
      "4 -> recognized: 1     | not: 981  \n",
      "5 -> recognized: 14    | not: 878  \n",
      "6 -> recognized: 31    | not: 927  \n",
      "7 -> recognized: 18    | not: 1010 \n",
      "8 -> recognized: 7     | not: 967  \n",
      "9 -> recognized: 8     | not: 1001 \n",
      "Total correctness: 98.64 %\n",
      "-----------------------------------------\n"
     ]
    }
   ],
   "source": [
    "ks = [1, 1.2]\n",
    "for i in range(len(betas_k)):\n",
    "    calculate_error_k(betas_k[i], 0, ks[i])"
   ]
  },
  {
   "cell_type": "code",
   "execution_count": 41,
   "metadata": {},
   "outputs": [
    {
     "name": "stdout",
     "output_type": "stream",
     "text": [
      "result of part 1\n",
      "Target is 0\n",
      "0 -> recognized: 968   | not: 12   \n",
      "1 -> recognized: 0     | not: 1135 \n",
      "2 -> recognized: 48    | not: 984  \n",
      "3 -> recognized: 36    | not: 974  \n",
      "4 -> recognized: 4     | not: 978  \n",
      "5 -> recognized: 47    | not: 845  \n",
      "6 -> recognized: 52    | not: 906  \n",
      "7 -> recognized: 29    | not: 999  \n",
      "8 -> recognized: 15    | not: 959  \n",
      "9 -> recognized: 14    | not: 995  \n",
      "Total correctness: 97.43 %\n",
      "-----------------------------------------\n"
     ]
    }
   ],
   "source": [
    "print(\"result of part 1\")\n",
    "calculate_error(betas[0], 0)"
   ]
  },
  {
   "cell_type": "code",
   "execution_count": 42,
   "metadata": {},
   "outputs": [],
   "source": [
    "jac_lamb = []\n",
    "phi_xs_lamb = []\n",
    "ys_lamb = []"
   ]
  },
  {
   "cell_type": "code",
   "execution_count": 43,
   "metadata": {},
   "outputs": [],
   "source": [
    "def get_func_lamb(x):\n",
    "    global jac_lamb\n",
    "    temp = []\n",
    "    for i in range(len(jac_lamb)):\n",
    "        row = np.dot(jac_lamb[i], x)\n",
    "        temp.append(row-ys_lamb[i])\n",
    "    return np.array(temp)"
   ]
  },
  {
   "cell_type": "code",
   "execution_count": 44,
   "metadata": {},
   "outputs": [],
   "source": [
    "def get_jac_lamb(x):\n",
    "    global jac_lamb\n",
    "    return jac_lamb"
   ]
  },
  {
   "cell_type": "code",
   "execution_count": 45,
   "metadata": {},
   "outputs": [],
   "source": [
    "def get_matrixs_k_lamb(target_matrix, y_matrix, lamb):\n",
    "    global jac_lamb\n",
    "    global phi_xs_lamb\n",
    "    global ys_lamb\n",
    "    matrix = []\n",
    "    ys = []\n",
    "    for i in range(784):\n",
    "        temp = [0] * 785\n",
    "        temp[i] = math.sqrt(lamb)\n",
    "        matrix.append(np.array(temp))\n",
    "        ys.append(0)\n",
    "    matrix = np.array(matrix)\n",
    "    ys = np.array(ys)\n",
    "    yys = get_yys(y_matrix)\n",
    "    jac_lamb = np.vstack((matrix, phi_xs_lamb))\n",
    "    ys_lamb = np.append(ys, yys)"
   ]
  },
  {
   "cell_type": "code",
   "execution_count": 46,
   "metadata": {},
   "outputs": [],
   "source": [
    "def get_beta_k_lamb():\n",
    "    initial_guess = np.array([0] * 785)\n",
    "    res = least_squares(get_func_lamb, initial_guess, get_jac_lamb)\n",
    "    return res.x"
   ]
  },
  {
   "cell_type": "code",
   "execution_count": 47,
   "metadata": {},
   "outputs": [],
   "source": [
    "def get_norms_k_lamb(beta):\n",
    "    r = np.matmul(jac_lamb, beta) - ys_lamb\n",
    "    r_norm = np.linalg.norm(r)\n",
    "    b = beta[:-1]\n",
    "    beta_norm = np.linalg.norm(b)\n",
    "    return r_norm, beta_norm"
   ]
  },
  {
   "cell_type": "code",
   "execution_count": 48,
   "metadata": {},
   "outputs": [],
   "source": [
    "k = 1\n",
    "target_matrix, y_matrix = get_digit_matrix(0)\n",
    "phi_xs_lamb = get_phi_xs(target_matrix, k)\n",
    "betas_k_lamb = []\n",
    "for lamb in range(0, 10):\n",
    "    get_matrixs_k_lamb(target_matrix, y_matrix, lamb)\n",
    "    beta = get_beta_k_lamb()\n",
    "    betas_k_lamb.append(beta)"
   ]
  },
  {
   "cell_type": "code",
   "execution_count": 49,
   "metadata": {},
   "outputs": [],
   "source": [
    "r_norms_k = []\n",
    "b_norms_k = []\n",
    "for b in betas_k_lamb:\n",
    "    rnk, bnk = get_norms_k_lamb(b)\n",
    "    r_norms_k.append(rnk)\n",
    "    b_norms_k.append(bnk)"
   ]
  },
  {
   "cell_type": "code",
   "execution_count": 50,
   "metadata": {},
   "outputs": [
    {
     "name": "stdout",
     "output_type": "stream",
     "text": [
      " y^-y | beta  \n",
      "--------------\n",
      "35.83 | 10.06\n",
      "20.01 |  1.63\n",
      "19.83 |  1.31\n",
      "19.77 |  1.17\n",
      "19.75 |  1.08\n",
      "19.73 |  1.02\n",
      "19.72 |  0.98\n",
      "19.72 |  0.95\n",
      "19.72 |  0.92\n",
      "19.72 |  0.90\n"
     ]
    }
   ],
   "source": [
    "print(\" y^-y | beta  \")\n",
    "print(\"--------------\")\n",
    "for i in range(len(r_norms_k)):\n",
    "    print(\"{:>5.2f} | {:>5.2f}\".format(r_norms_k[i], b_norms_k[i]))"
   ]
  },
  {
   "cell_type": "code",
   "execution_count": 51,
   "metadata": {},
   "outputs": [
    {
     "data": {
      "text/plain": [
       "Text(0.5, 0, '$||\\\\hat{y} - y||_2$')"
      ]
     },
     "execution_count": 51,
     "metadata": {},
     "output_type": "execute_result"
    },
    {
     "data": {
      "image/png": "[encoded data removed]",
      "text/plain": [
       "<Figure size 432x288 with 1 Axes>"
      ]
     },
     "metadata": {
      "needs_background": "light"
     },
     "output_type": "display_data"
    }
   ],
   "source": [
    "plt.plot(r_norms_k[:5], b_norms_k[:5], marker='o')\n",
    "plt.ylabel(r'$||\\beta||_2$')\n",
    "plt.xlabel(r'$||\\hat{y} - y||_2$')"
   ]
  },
  {
   "cell_type": "code",
   "execution_count": 56,
   "metadata": {},
   "outputs": [
    {
     "name": "stdout",
     "output_type": "stream",
     "text": [
      "When lambda = 4\n",
      "Target is 0\n",
      "0 -> recognized: 970   | not: 10   \n",
      "1 -> recognized: 1     | not: 1134 \n",
      "2 -> recognized: 44    | not: 988  \n",
      "3 -> recognized: 31    | not: 979  \n",
      "4 -> recognized: 2     | not: 980  \n",
      "5 -> recognized: 38    | not: 854  \n",
      "6 -> recognized: 47    | not: 911  \n",
      "7 -> recognized: 23    | not: 1005 \n",
      "8 -> recognized: 12    | not: 962  \n",
      "9 -> recognized: 19    | not: 990  \n",
      "Total correctness: 97.73 %\n",
      "-----------------------------------------\n"
     ]
    }
   ],
   "source": [
    "print(\"When lambda = 4\")\n",
    "calculate_error_k(betas_k_lamb[4], 0, k)"
   ]
  },
  {
   "cell_type": "code",
   "execution_count": 53,
   "metadata": {},
   "outputs": [
    {
     "name": "stdout",
     "output_type": "stream",
     "text": [
      "Patr 2, when lambda = 7\n",
      "Target is 0\n",
      "0 -> recognized: 969   | not: 11   \n",
      "1 -> recognized: 0     | not: 1135 \n",
      "2 -> recognized: 47    | not: 985  \n",
      "3 -> recognized: 33    | not: 977  \n",
      "4 -> recognized: 3     | not: 979  \n",
      "5 -> recognized: 43    | not: 849  \n",
      "6 -> recognized: 41    | not: 917  \n",
      "7 -> recognized: 19    | not: 1009 \n",
      "8 -> recognized: 16    | not: 958  \n",
      "9 -> recognized: 14    | not: 995  \n",
      "Total correctness: 97.73 %\n",
      "-----------------------------------------\n"
     ]
    }
   ],
   "source": [
    "print(\"Patr 2, when lambda = 7\")\n",
    "calculate_error(betas_2[7], 0)"
   ]
  },
  {
   "cell_type": "code",
   "execution_count": null,
   "metadata": {},
   "outputs": [],
   "source": []
  }
 ],
 "metadata": {
  "kernelspec": {
   "display_name": "Python 3",
   "language": "python",
   "name": "python3"
  },
  "language_info": {
   "codemirror_mode": {
    "name": "ipython",
    "version": 3
   },
   "file_extension": ".py",
   "mimetype": "text/x-python",
   "name": "python",
   "nbconvert_exporter": "python",
   "pygments_lexer": "ipython3",
   "version": "3.7.3"
  }
 },
 "nbformat": 4,
 "nbformat_minor": 2
}
