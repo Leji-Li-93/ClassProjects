{
 "cells": [
  {
   "cell_type": "markdown",
   "metadata": {},
   "source": [
    "### An Analysis on the Depression in California"
   ]
  },
  {
   "cell_type": "markdown",
   "metadata": {},
   "source": [
    "Depression is one of the most common mental issue in the world. This project uses the data provided by the California Behavioral Risk Factor Surveillance Survey (BRFSS). This project aims to analysis the data to find the which group of adults will has highest chance to has depression. The data will be grouped according to income level, education level, age and races."
   ]
  },
  {
   "cell_type": "markdown",
   "metadata": {},
   "source": [
    "- gender analysis\n",
    "- race analysis\n",
    "- income analysis\n",
    "- education analysis"
   ]
  },
  {
   "cell_type": "markdown",
   "metadata": {},
   "source": [
    "The project is to find out the tendancies of difference apsects and use these tendancies to perform prediction."
   ]
  },
  {
   "cell_type": "markdown",
   "metadata": {},
   "source": [
    "### 1. Data visilization"
   ]
  },
  {
   "cell_type": "code",
   "execution_count": 1,
   "metadata": {},
   "outputs": [],
   "source": [
    "import pandas as pd\n",
    "import numpy as np\n",
    "import seaborn as sns\n",
    "import matplotlib.pyplot as plt\n",
    "import scipy.stats as stats\n",
    "%matplotlib inline"
   ]
  },
  {
   "cell_type": "code",
   "execution_count": 2,
   "metadata": {},
   "outputs": [
    {
     "data": {
      "text/html": [
       "<div>\n",
       "<style scoped>\n",
       "    .dataframe tbody tr th:only-of-type {\n",
       "        vertical-align: middle;\n",
       "    }\n",
       "\n",
       "    .dataframe tbody tr th {\n",
       "        vertical-align: top;\n",
       "    }\n",
       "\n",
       "    .dataframe thead th {\n",
       "        text-align: right;\n",
       "    }\n",
       "</style>\n",
       "<table border=\"1\" class=\"dataframe\">\n",
       "  <thead>\n",
       "    <tr style=\"text-align: right;\">\n",
       "      <th></th>\n",
       "      <th>Year</th>\n",
       "      <th>Strata</th>\n",
       "      <th>Strata Name</th>\n",
       "      <th>Frequency</th>\n",
       "      <th>Weighted Frequency</th>\n",
       "      <th>Percent</th>\n",
       "      <th>Lower 95% CL</th>\n",
       "      <th>Upper 95% CL</th>\n",
       "    </tr>\n",
       "  </thead>\n",
       "  <tbody>\n",
       "    <tr>\n",
       "      <th>0</th>\n",
       "      <td>2012</td>\n",
       "      <td>Total</td>\n",
       "      <td>Total</td>\n",
       "      <td>1920</td>\n",
       "      <td>NaN</td>\n",
       "      <td>11.74</td>\n",
       "      <td>11.11</td>\n",
       "      <td>12.37</td>\n",
       "    </tr>\n",
       "    <tr>\n",
       "      <th>1</th>\n",
       "      <td>2012</td>\n",
       "      <td>Sex</td>\n",
       "      <td>Male</td>\n",
       "      <td>561</td>\n",
       "      <td>1116664.0</td>\n",
       "      <td>8.12</td>\n",
       "      <td>7.32</td>\n",
       "      <td>8.92</td>\n",
       "    </tr>\n",
       "    <tr>\n",
       "      <th>2</th>\n",
       "      <td>2012</td>\n",
       "      <td>Sex</td>\n",
       "      <td>Female</td>\n",
       "      <td>1359</td>\n",
       "      <td>2163108.0</td>\n",
       "      <td>15.25</td>\n",
       "      <td>14.30</td>\n",
       "      <td>16.20</td>\n",
       "    </tr>\n",
       "    <tr>\n",
       "      <th>3</th>\n",
       "      <td>2012</td>\n",
       "      <td>Race-Ethnicity</td>\n",
       "      <td>White</td>\n",
       "      <td>1314</td>\n",
       "      <td>1806371.0</td>\n",
       "      <td>14.57</td>\n",
       "      <td>13.67</td>\n",
       "      <td>15.46</td>\n",
       "    </tr>\n",
       "    <tr>\n",
       "      <th>4</th>\n",
       "      <td>2012</td>\n",
       "      <td>Race-Ethnicity</td>\n",
       "      <td>Black</td>\n",
       "      <td>97</td>\n",
       "      <td>222022.0</td>\n",
       "      <td>13.54</td>\n",
       "      <td>10.44</td>\n",
       "      <td>16.65</td>\n",
       "    </tr>\n",
       "    <tr>\n",
       "      <th>5</th>\n",
       "      <td>2012</td>\n",
       "      <td>Race-Ethnicity</td>\n",
       "      <td>Hispanic</td>\n",
       "      <td>412</td>\n",
       "      <td>923174.0</td>\n",
       "      <td>9.98</td>\n",
       "      <td>8.91</td>\n",
       "      <td>11.05</td>\n",
       "    </tr>\n",
       "    <tr>\n",
       "      <th>6</th>\n",
       "      <td>2012</td>\n",
       "      <td>Race-Ethnicity</td>\n",
       "      <td>Asian/Pacific Islander</td>\n",
       "      <td>61</td>\n",
       "      <td>220418.0</td>\n",
       "      <td>5.48</td>\n",
       "      <td>3.92</td>\n",
       "      <td>7.03</td>\n",
       "    </tr>\n",
       "    <tr>\n",
       "      <th>7</th>\n",
       "      <td>2012</td>\n",
       "      <td>Race-Ethnicity</td>\n",
       "      <td>Other</td>\n",
       "      <td>36</td>\n",
       "      <td>107786.0</td>\n",
       "      <td>17.34</td>\n",
       "      <td>11.09</td>\n",
       "      <td>23.60</td>\n",
       "    </tr>\n",
       "    <tr>\n",
       "      <th>8</th>\n",
       "      <td>2012</td>\n",
       "      <td>Education</td>\n",
       "      <td>No High School Diploma</td>\n",
       "      <td>282</td>\n",
       "      <td>579047.0</td>\n",
       "      <td>14.43</td>\n",
       "      <td>12.60</td>\n",
       "      <td>16.26</td>\n",
       "    </tr>\n",
       "    <tr>\n",
       "      <th>9</th>\n",
       "      <td>2012</td>\n",
       "      <td>Education</td>\n",
       "      <td>High School Graduate or GED Certificate</td>\n",
       "      <td>337</td>\n",
       "      <td>665672.0</td>\n",
       "      <td>11.44</td>\n",
       "      <td>9.98</td>\n",
       "      <td>12.89</td>\n",
       "    </tr>\n",
       "    <tr>\n",
       "      <th>10</th>\n",
       "      <td>2012</td>\n",
       "      <td>Education</td>\n",
       "      <td>Some College or Tech School</td>\n",
       "      <td>563</td>\n",
       "      <td>947473.0</td>\n",
       "      <td>13.25</td>\n",
       "      <td>11.95</td>\n",
       "      <td>14.55</td>\n",
       "    </tr>\n",
       "    <tr>\n",
       "      <th>11</th>\n",
       "      <td>2012</td>\n",
       "      <td>Education</td>\n",
       "      <td>College Graduate or Post Grad</td>\n",
       "      <td>717</td>\n",
       "      <td>1040822.0</td>\n",
       "      <td>10.00</td>\n",
       "      <td>9.11</td>\n",
       "      <td>10.90</td>\n",
       "    </tr>\n",
       "    <tr>\n",
       "      <th>12</th>\n",
       "      <td>2012</td>\n",
       "      <td>Income</td>\n",
       "      <td>&lt; $20,000</td>\n",
       "      <td>642</td>\n",
       "      <td>1118292.0</td>\n",
       "      <td>16.97</td>\n",
       "      <td>15.42</td>\n",
       "      <td>18.51</td>\n",
       "    </tr>\n",
       "    <tr>\n",
       "      <th>13</th>\n",
       "      <td>2012</td>\n",
       "      <td>Income</td>\n",
       "      <td>$20,000 - $34,999</td>\n",
       "      <td>295</td>\n",
       "      <td>490532.0</td>\n",
       "      <td>12.39</td>\n",
       "      <td>10.67</td>\n",
       "      <td>14.10</td>\n",
       "    </tr>\n",
       "    <tr>\n",
       "      <th>14</th>\n",
       "      <td>2012</td>\n",
       "      <td>Income</td>\n",
       "      <td>$35,000 - $49,999</td>\n",
       "      <td>187</td>\n",
       "      <td>296225.0</td>\n",
       "      <td>9.88</td>\n",
       "      <td>8.16</td>\n",
       "      <td>11.60</td>\n",
       "    </tr>\n",
       "    <tr>\n",
       "      <th>15</th>\n",
       "      <td>2012</td>\n",
       "      <td>Income</td>\n",
       "      <td>$50,000 - $74,999</td>\n",
       "      <td>250</td>\n",
       "      <td>440798.0</td>\n",
       "      <td>12.65</td>\n",
       "      <td>10.82</td>\n",
       "      <td>14.49</td>\n",
       "    </tr>\n",
       "    <tr>\n",
       "      <th>16</th>\n",
       "      <td>2012</td>\n",
       "      <td>Income</td>\n",
       "      <td>$75,000 - $99,999</td>\n",
       "      <td>160</td>\n",
       "      <td>290492.0</td>\n",
       "      <td>10.17</td>\n",
       "      <td>8.26</td>\n",
       "      <td>12.07</td>\n",
       "    </tr>\n",
       "    <tr>\n",
       "      <th>17</th>\n",
       "      <td>2012</td>\n",
       "      <td>Income</td>\n",
       "      <td>$100,000+</td>\n",
       "      <td>270</td>\n",
       "      <td>454444.0</td>\n",
       "      <td>8.31</td>\n",
       "      <td>7.17</td>\n",
       "      <td>9.46</td>\n",
       "    </tr>\n",
       "    <tr>\n",
       "      <th>18</th>\n",
       "      <td>2012</td>\n",
       "      <td>Age</td>\n",
       "      <td>18 to 34</td>\n",
       "      <td>219</td>\n",
       "      <td>705000.0</td>\n",
       "      <td>7.63</td>\n",
       "      <td>6.55</td>\n",
       "      <td>8.72</td>\n",
       "    </tr>\n",
       "    <tr>\n",
       "      <th>19</th>\n",
       "      <td>2012</td>\n",
       "      <td>Age</td>\n",
       "      <td>35 to 44</td>\n",
       "      <td>240</td>\n",
       "      <td>576639.0</td>\n",
       "      <td>11.13</td>\n",
       "      <td>9.57</td>\n",
       "      <td>12.69</td>\n",
       "    </tr>\n",
       "    <tr>\n",
       "      <th>20</th>\n",
       "      <td>2012</td>\n",
       "      <td>Age</td>\n",
       "      <td>45 to 54</td>\n",
       "      <td>409</td>\n",
       "      <td>770238.0</td>\n",
       "      <td>14.67</td>\n",
       "      <td>13.14</td>\n",
       "      <td>16.20</td>\n",
       "    </tr>\n",
       "    <tr>\n",
       "      <th>21</th>\n",
       "      <td>2012</td>\n",
       "      <td>Age</td>\n",
       "      <td>55 to 64</td>\n",
       "      <td>511</td>\n",
       "      <td>692056.0</td>\n",
       "      <td>17.19</td>\n",
       "      <td>15.55</td>\n",
       "      <td>18.82</td>\n",
       "    </tr>\n",
       "    <tr>\n",
       "      <th>22</th>\n",
       "      <td>2012</td>\n",
       "      <td>Age</td>\n",
       "      <td>65+ years</td>\n",
       "      <td>541</td>\n",
       "      <td>535838.0</td>\n",
       "      <td>12.63</td>\n",
       "      <td>11.38</td>\n",
       "      <td>13.87</td>\n",
       "    </tr>\n",
       "    <tr>\n",
       "      <th>23</th>\n",
       "      <td>2013</td>\n",
       "      <td>Total</td>\n",
       "      <td>Total</td>\n",
       "      <td>1689</td>\n",
       "      <td>NaN</td>\n",
       "      <td>13.08</td>\n",
       "      <td>12.33</td>\n",
       "      <td>13.82</td>\n",
       "    </tr>\n",
       "    <tr>\n",
       "      <th>24</th>\n",
       "      <td>2013</td>\n",
       "      <td>Sex</td>\n",
       "      <td>Male</td>\n",
       "      <td>539</td>\n",
       "      <td>1307668.0</td>\n",
       "      <td>9.53</td>\n",
       "      <td>8.53</td>\n",
       "      <td>10.52</td>\n",
       "    </tr>\n",
       "    <tr>\n",
       "      <th>25</th>\n",
       "      <td>2013</td>\n",
       "      <td>Sex</td>\n",
       "      <td>Female</td>\n",
       "      <td>1150</td>\n",
       "      <td>2337817.0</td>\n",
       "      <td>16.52</td>\n",
       "      <td>15.42</td>\n",
       "      <td>17.62</td>\n",
       "    </tr>\n",
       "    <tr>\n",
       "      <th>26</th>\n",
       "      <td>2013</td>\n",
       "      <td>Race-Ethnicity</td>\n",
       "      <td>White</td>\n",
       "      <td>1103</td>\n",
       "      <td>1979888.0</td>\n",
       "      <td>15.97</td>\n",
       "      <td>14.91</td>\n",
       "      <td>17.02</td>\n",
       "    </tr>\n",
       "    <tr>\n",
       "      <th>27</th>\n",
       "      <td>2013</td>\n",
       "      <td>Race-Ethnicity</td>\n",
       "      <td>Black</td>\n",
       "      <td>93</td>\n",
       "      <td>252871.0</td>\n",
       "      <td>15.46</td>\n",
       "      <td>11.91</td>\n",
       "      <td>19.02</td>\n",
       "    </tr>\n",
       "    <tr>\n",
       "      <th>28</th>\n",
       "      <td>2013</td>\n",
       "      <td>Race-Ethnicity</td>\n",
       "      <td>Hispanic</td>\n",
       "      <td>403</td>\n",
       "      <td>1011594.0</td>\n",
       "      <td>10.96</td>\n",
       "      <td>9.72</td>\n",
       "      <td>12.20</td>\n",
       "    </tr>\n",
       "    <tr>\n",
       "      <th>29</th>\n",
       "      <td>2013</td>\n",
       "      <td>Race-Ethnicity</td>\n",
       "      <td>Asian/Pacific Islander</td>\n",
       "      <td>62</td>\n",
       "      <td>308822.0</td>\n",
       "      <td>7.38</td>\n",
       "      <td>5.26</td>\n",
       "      <td>9.50</td>\n",
       "    </tr>\n",
       "    <tr>\n",
       "      <th>...</th>\n",
       "      <td>...</td>\n",
       "      <td>...</td>\n",
       "      <td>...</td>\n",
       "      <td>...</td>\n",
       "      <td>...</td>\n",
       "      <td>...</td>\n",
       "      <td>...</td>\n",
       "      <td>...</td>\n",
       "    </tr>\n",
       "    <tr>\n",
       "      <th>108</th>\n",
       "      <td>2016</td>\n",
       "      <td>Income</td>\n",
       "      <td>$75,000 - $99,999</td>\n",
       "      <td>120</td>\n",
       "      <td>275284.0</td>\n",
       "      <td>11.13</td>\n",
       "      <td>8.45</td>\n",
       "      <td>13.82</td>\n",
       "    </tr>\n",
       "    <tr>\n",
       "      <th>109</th>\n",
       "      <td>2016</td>\n",
       "      <td>Income</td>\n",
       "      <td>$100,000+</td>\n",
       "      <td>263</td>\n",
       "      <td>903030.0</td>\n",
       "      <td>12.08</td>\n",
       "      <td>9.41</td>\n",
       "      <td>14.75</td>\n",
       "    </tr>\n",
       "    <tr>\n",
       "      <th>110</th>\n",
       "      <td>2016</td>\n",
       "      <td>Age</td>\n",
       "      <td>18 to 34</td>\n",
       "      <td>357</td>\n",
       "      <td>1086345.0</td>\n",
       "      <td>11.84</td>\n",
       "      <td>9.25</td>\n",
       "      <td>14.43</td>\n",
       "    </tr>\n",
       "    <tr>\n",
       "      <th>111</th>\n",
       "      <td>2016</td>\n",
       "      <td>Age</td>\n",
       "      <td>35 to 44</td>\n",
       "      <td>203</td>\n",
       "      <td>610422.0</td>\n",
       "      <td>11.85</td>\n",
       "      <td>8.73</td>\n",
       "      <td>14.97</td>\n",
       "    </tr>\n",
       "    <tr>\n",
       "      <th>112</th>\n",
       "      <td>2016</td>\n",
       "      <td>Age</td>\n",
       "      <td>45 to 54</td>\n",
       "      <td>314</td>\n",
       "      <td>764361.0</td>\n",
       "      <td>14.59</td>\n",
       "      <td>12.17</td>\n",
       "      <td>17.02</td>\n",
       "    </tr>\n",
       "    <tr>\n",
       "      <th>113</th>\n",
       "      <td>2016</td>\n",
       "      <td>Age</td>\n",
       "      <td>55 to 64</td>\n",
       "      <td>390</td>\n",
       "      <td>749852.0</td>\n",
       "      <td>18.65</td>\n",
       "      <td>16.08</td>\n",
       "      <td>21.22</td>\n",
       "    </tr>\n",
       "    <tr>\n",
       "      <th>114</th>\n",
       "      <td>2016</td>\n",
       "      <td>Age</td>\n",
       "      <td>65+ years</td>\n",
       "      <td>381</td>\n",
       "      <td>618529.0</td>\n",
       "      <td>14.61</td>\n",
       "      <td>12.29</td>\n",
       "      <td>16.94</td>\n",
       "    </tr>\n",
       "    <tr>\n",
       "      <th>115</th>\n",
       "      <td>2017</td>\n",
       "      <td>Total</td>\n",
       "      <td>Total</td>\n",
       "      <td>1550</td>\n",
       "      <td>NaN</td>\n",
       "      <td>19.04</td>\n",
       "      <td>17.10</td>\n",
       "      <td>20.98</td>\n",
       "    </tr>\n",
       "    <tr>\n",
       "      <th>116</th>\n",
       "      <td>2017</td>\n",
       "      <td>Sex</td>\n",
       "      <td>Male</td>\n",
       "      <td>525</td>\n",
       "      <td>2001004.0</td>\n",
       "      <td>14.61</td>\n",
       "      <td>11.78</td>\n",
       "      <td>17.43</td>\n",
       "    </tr>\n",
       "    <tr>\n",
       "      <th>117</th>\n",
       "      <td>2017</td>\n",
       "      <td>Sex</td>\n",
       "      <td>Female</td>\n",
       "      <td>1025</td>\n",
       "      <td>3301418.0</td>\n",
       "      <td>23.33</td>\n",
       "      <td>20.65</td>\n",
       "      <td>26.01</td>\n",
       "    </tr>\n",
       "    <tr>\n",
       "      <th>118</th>\n",
       "      <td>2017</td>\n",
       "      <td>Race-Ethnicity</td>\n",
       "      <td>White</td>\n",
       "      <td>903</td>\n",
       "      <td>2740044.0</td>\n",
       "      <td>22.81</td>\n",
       "      <td>19.97</td>\n",
       "      <td>25.64</td>\n",
       "    </tr>\n",
       "    <tr>\n",
       "      <th>119</th>\n",
       "      <td>2017</td>\n",
       "      <td>Race-Ethnicity</td>\n",
       "      <td>Black</td>\n",
       "      <td>70</td>\n",
       "      <td>251661.0</td>\n",
       "      <td>17.35</td>\n",
       "      <td>11.05</td>\n",
       "      <td>23.64</td>\n",
       "    </tr>\n",
       "    <tr>\n",
       "      <th>120</th>\n",
       "      <td>2017</td>\n",
       "      <td>Race-Ethnicity</td>\n",
       "      <td>Hispanic</td>\n",
       "      <td>394</td>\n",
       "      <td>1497366.0</td>\n",
       "      <td>16.22</td>\n",
       "      <td>12.81</td>\n",
       "      <td>19.64</td>\n",
       "    </tr>\n",
       "    <tr>\n",
       "      <th>121</th>\n",
       "      <td>2017</td>\n",
       "      <td>Race-Ethnicity</td>\n",
       "      <td>Asian/Pacific Islander</td>\n",
       "      <td>67</td>\n",
       "      <td>227004.0</td>\n",
       "      <td>6.76</td>\n",
       "      <td>4.41</td>\n",
       "      <td>9.10</td>\n",
       "    </tr>\n",
       "    <tr>\n",
       "      <th>122</th>\n",
       "      <td>2017</td>\n",
       "      <td>Race-Ethnicity</td>\n",
       "      <td>Other</td>\n",
       "      <td>110</td>\n",
       "      <td>569867.0</td>\n",
       "      <td>33.09</td>\n",
       "      <td>21.22</td>\n",
       "      <td>44.95</td>\n",
       "    </tr>\n",
       "    <tr>\n",
       "      <th>123</th>\n",
       "      <td>2017</td>\n",
       "      <td>Education</td>\n",
       "      <td>No High School Diploma</td>\n",
       "      <td>181</td>\n",
       "      <td>503638.0</td>\n",
       "      <td>16.43</td>\n",
       "      <td>12.15</td>\n",
       "      <td>20.71</td>\n",
       "    </tr>\n",
       "    <tr>\n",
       "      <th>124</th>\n",
       "      <td>2017</td>\n",
       "      <td>Education</td>\n",
       "      <td>High School Graduate or GED Certificate</td>\n",
       "      <td>265</td>\n",
       "      <td>1297640.0</td>\n",
       "      <td>22.45</td>\n",
       "      <td>16.90</td>\n",
       "      <td>28.01</td>\n",
       "    </tr>\n",
       "    <tr>\n",
       "      <th>125</th>\n",
       "      <td>2017</td>\n",
       "      <td>Education</td>\n",
       "      <td>Some College or Tech School</td>\n",
       "      <td>483</td>\n",
       "      <td>1643032.0</td>\n",
       "      <td>22.78</td>\n",
       "      <td>18.64</td>\n",
       "      <td>26.92</td>\n",
       "    </tr>\n",
       "    <tr>\n",
       "      <th>126</th>\n",
       "      <td>2017</td>\n",
       "      <td>Education</td>\n",
       "      <td>College Graduate or Post Grad</td>\n",
       "      <td>618</td>\n",
       "      <td>1852870.0</td>\n",
       "      <td>15.84</td>\n",
       "      <td>13.47</td>\n",
       "      <td>18.21</td>\n",
       "    </tr>\n",
       "    <tr>\n",
       "      <th>127</th>\n",
       "      <td>2017</td>\n",
       "      <td>Income</td>\n",
       "      <td>&lt; $20,000</td>\n",
       "      <td>395</td>\n",
       "      <td>1445671.0</td>\n",
       "      <td>30.68</td>\n",
       "      <td>24.60</td>\n",
       "      <td>36.76</td>\n",
       "    </tr>\n",
       "    <tr>\n",
       "      <th>128</th>\n",
       "      <td>2017</td>\n",
       "      <td>Income</td>\n",
       "      <td>$20,000 - $34,999</td>\n",
       "      <td>188</td>\n",
       "      <td>606355.0</td>\n",
       "      <td>17.32</td>\n",
       "      <td>12.49</td>\n",
       "      <td>22.16</td>\n",
       "    </tr>\n",
       "    <tr>\n",
       "      <th>129</th>\n",
       "      <td>2017</td>\n",
       "      <td>Income</td>\n",
       "      <td>$35,000 - $49,999</td>\n",
       "      <td>155</td>\n",
       "      <td>457803.0</td>\n",
       "      <td>17.54</td>\n",
       "      <td>11.28</td>\n",
       "      <td>23.80</td>\n",
       "    </tr>\n",
       "    <tr>\n",
       "      <th>130</th>\n",
       "      <td>2017</td>\n",
       "      <td>Income</td>\n",
       "      <td>$50,000 - $74,999</td>\n",
       "      <td>192</td>\n",
       "      <td>595222.0</td>\n",
       "      <td>19.97</td>\n",
       "      <td>15.68</td>\n",
       "      <td>24.25</td>\n",
       "    </tr>\n",
       "    <tr>\n",
       "      <th>131</th>\n",
       "      <td>2017</td>\n",
       "      <td>Income</td>\n",
       "      <td>$75,000 - $99,999</td>\n",
       "      <td>147</td>\n",
       "      <td>417633.0</td>\n",
       "      <td>15.08</td>\n",
       "      <td>10.60</td>\n",
       "      <td>19.56</td>\n",
       "    </tr>\n",
       "    <tr>\n",
       "      <th>132</th>\n",
       "      <td>2017</td>\n",
       "      <td>Income</td>\n",
       "      <td>$100,000+</td>\n",
       "      <td>296</td>\n",
       "      <td>1060698.0</td>\n",
       "      <td>14.84</td>\n",
       "      <td>11.74</td>\n",
       "      <td>17.95</td>\n",
       "    </tr>\n",
       "    <tr>\n",
       "      <th>133</th>\n",
       "      <td>2017</td>\n",
       "      <td>Age</td>\n",
       "      <td>18 to 34</td>\n",
       "      <td>304</td>\n",
       "      <td>1822284.0</td>\n",
       "      <td>19.80</td>\n",
       "      <td>15.35</td>\n",
       "      <td>24.25</td>\n",
       "    </tr>\n",
       "    <tr>\n",
       "      <th>134</th>\n",
       "      <td>2017</td>\n",
       "      <td>Age</td>\n",
       "      <td>35 to 44</td>\n",
       "      <td>209</td>\n",
       "      <td>1007265.0</td>\n",
       "      <td>19.53</td>\n",
       "      <td>14.71</td>\n",
       "      <td>24.34</td>\n",
       "    </tr>\n",
       "    <tr>\n",
       "      <th>135</th>\n",
       "      <td>2017</td>\n",
       "      <td>Age</td>\n",
       "      <td>45 to 54</td>\n",
       "      <td>268</td>\n",
       "      <td>857084.0</td>\n",
       "      <td>16.40</td>\n",
       "      <td>12.92</td>\n",
       "      <td>19.88</td>\n",
       "    </tr>\n",
       "    <tr>\n",
       "      <th>136</th>\n",
       "      <td>2017</td>\n",
       "      <td>Age</td>\n",
       "      <td>55 to 64</td>\n",
       "      <td>382</td>\n",
       "      <td>896899.0</td>\n",
       "      <td>22.32</td>\n",
       "      <td>18.88</td>\n",
       "      <td>25.76</td>\n",
       "    </tr>\n",
       "    <tr>\n",
       "      <th>137</th>\n",
       "      <td>2017</td>\n",
       "      <td>Age</td>\n",
       "      <td>65+ years</td>\n",
       "      <td>387</td>\n",
       "      <td>718890.0</td>\n",
       "      <td>16.94</td>\n",
       "      <td>14.63</td>\n",
       "      <td>19.25</td>\n",
       "    </tr>\n",
       "  </tbody>\n",
       "</table>\n",
       "<p>138 rows × 8 columns</p>\n",
       "</div>"
      ],
      "text/plain": [
       "     Year          Strata                              Strata Name  Frequency  \\\n",
       "0    2012           Total                                    Total       1920   \n",
       "1    2012             Sex                                     Male        561   \n",
       "2    2012             Sex                                   Female       1359   \n",
       "3    2012  Race-Ethnicity                                    White       1314   \n",
       "4    2012  Race-Ethnicity                                    Black         97   \n",
       "5    2012  Race-Ethnicity                                 Hispanic        412   \n",
       "6    2012  Race-Ethnicity                   Asian/Pacific Islander         61   \n",
       "7    2012  Race-Ethnicity                                    Other         36   \n",
       "8    2012       Education                   No High School Diploma        282   \n",
       "9    2012       Education  High School Graduate or GED Certificate        337   \n",
       "10   2012       Education              Some College or Tech School        563   \n",
       "11   2012       Education            College Graduate or Post Grad        717   \n",
       "12   2012          Income                                < $20,000        642   \n",
       "13   2012          Income                        $20,000 - $34,999        295   \n",
       "14   2012          Income                        $35,000 - $49,999        187   \n",
       "15   2012          Income                        $50,000 - $74,999        250   \n",
       "16   2012          Income                        $75,000 - $99,999        160   \n",
       "17   2012          Income                                $100,000+        270   \n",
       "18   2012             Age                                 18 to 34        219   \n",
       "19   2012             Age                                 35 to 44        240   \n",
       "20   2012             Age                                 45 to 54        409   \n",
       "21   2012             Age                                 55 to 64        511   \n",
       "22   2012             Age                                65+ years        541   \n",
       "23   2013           Total                                    Total       1689   \n",
       "24   2013             Sex                                     Male        539   \n",
       "25   2013             Sex                                   Female       1150   \n",
       "26   2013  Race-Ethnicity                                    White       1103   \n",
       "27   2013  Race-Ethnicity                                    Black         93   \n",
       "28   2013  Race-Ethnicity                                 Hispanic        403   \n",
       "29   2013  Race-Ethnicity                   Asian/Pacific Islander         62   \n",
       "..    ...             ...                                      ...        ...   \n",
       "108  2016          Income                        $75,000 - $99,999        120   \n",
       "109  2016          Income                                $100,000+        263   \n",
       "110  2016             Age                                 18 to 34        357   \n",
       "111  2016             Age                                 35 to 44        203   \n",
       "112  2016             Age                                 45 to 54        314   \n",
       "113  2016             Age                                 55 to 64        390   \n",
       "114  2016             Age                                65+ years        381   \n",
       "115  2017           Total                                    Total       1550   \n",
       "116  2017             Sex                                     Male        525   \n",
       "117  2017             Sex                                   Female       1025   \n",
       "118  2017  Race-Ethnicity                                    White        903   \n",
       "119  2017  Race-Ethnicity                                    Black         70   \n",
       "120  2017  Race-Ethnicity                                 Hispanic        394   \n",
       "121  2017  Race-Ethnicity                   Asian/Pacific Islander         67   \n",
       "122  2017  Race-Ethnicity                                    Other        110   \n",
       "123  2017       Education                   No High School Diploma        181   \n",
       "124  2017       Education  High School Graduate or GED Certificate        265   \n",
       "125  2017       Education              Some College or Tech School        483   \n",
       "126  2017       Education            College Graduate or Post Grad        618   \n",
       "127  2017          Income                                < $20,000        395   \n",
       "128  2017          Income                        $20,000 - $34,999        188   \n",
       "129  2017          Income                        $35,000 - $49,999        155   \n",
       "130  2017          Income                        $50,000 - $74,999        192   \n",
       "131  2017          Income                        $75,000 - $99,999        147   \n",
       "132  2017          Income                                $100,000+        296   \n",
       "133  2017             Age                                 18 to 34        304   \n",
       "134  2017             Age                                 35 to 44        209   \n",
       "135  2017             Age                                 45 to 54        268   \n",
       "136  2017             Age                                 55 to 64        382   \n",
       "137  2017             Age                                65+ years        387   \n",
       "\n",
       "     Weighted Frequency  Percent  Lower 95% CL  Upper 95% CL  \n",
       "0                   NaN    11.74         11.11         12.37  \n",
       "1             1116664.0     8.12          7.32          8.92  \n",
       "2             2163108.0    15.25         14.30         16.20  \n",
       "3             1806371.0    14.57         13.67         15.46  \n",
       "4              222022.0    13.54         10.44         16.65  \n",
       "5              923174.0     9.98          8.91         11.05  \n",
       "6              220418.0     5.48          3.92          7.03  \n",
       "7              107786.0    17.34         11.09         23.60  \n",
       "8              579047.0    14.43         12.60         16.26  \n",
       "9              665672.0    11.44          9.98         12.89  \n",
       "10             947473.0    13.25         11.95         14.55  \n",
       "11            1040822.0    10.00          9.11         10.90  \n",
       "12            1118292.0    16.97         15.42         18.51  \n",
       "13             490532.0    12.39         10.67         14.10  \n",
       "14             296225.0     9.88          8.16         11.60  \n",
       "15             440798.0    12.65         10.82         14.49  \n",
       "16             290492.0    10.17          8.26         12.07  \n",
       "17             454444.0     8.31          7.17          9.46  \n",
       "18             705000.0     7.63          6.55          8.72  \n",
       "19             576639.0    11.13          9.57         12.69  \n",
       "20             770238.0    14.67         13.14         16.20  \n",
       "21             692056.0    17.19         15.55         18.82  \n",
       "22             535838.0    12.63         11.38         13.87  \n",
       "23                  NaN    13.08         12.33         13.82  \n",
       "24            1307668.0     9.53          8.53         10.52  \n",
       "25            2337817.0    16.52         15.42         17.62  \n",
       "26            1979888.0    15.97         14.91         17.02  \n",
       "27             252871.0    15.46         11.91         19.02  \n",
       "28            1011594.0    10.96          9.72         12.20  \n",
       "29             308822.0     7.38          5.26          9.50  \n",
       "..                  ...      ...           ...           ...  \n",
       "108            275284.0    11.13          8.45         13.82  \n",
       "109            903030.0    12.08          9.41         14.75  \n",
       "110           1086345.0    11.84          9.25         14.43  \n",
       "111            610422.0    11.85          8.73         14.97  \n",
       "112            764361.0    14.59         12.17         17.02  \n",
       "113            749852.0    18.65         16.08         21.22  \n",
       "114            618529.0    14.61         12.29         16.94  \n",
       "115                 NaN    19.04         17.10         20.98  \n",
       "116           2001004.0    14.61         11.78         17.43  \n",
       "117           3301418.0    23.33         20.65         26.01  \n",
       "118           2740044.0    22.81         19.97         25.64  \n",
       "119            251661.0    17.35         11.05         23.64  \n",
       "120           1497366.0    16.22         12.81         19.64  \n",
       "121            227004.0     6.76          4.41          9.10  \n",
       "122            569867.0    33.09         21.22         44.95  \n",
       "123            503638.0    16.43         12.15         20.71  \n",
       "124           1297640.0    22.45         16.90         28.01  \n",
       "125           1643032.0    22.78         18.64         26.92  \n",
       "126           1852870.0    15.84         13.47         18.21  \n",
       "127           1445671.0    30.68         24.60         36.76  \n",
       "128            606355.0    17.32         12.49         22.16  \n",
       "129            457803.0    17.54         11.28         23.80  \n",
       "130            595222.0    19.97         15.68         24.25  \n",
       "131            417633.0    15.08         10.60         19.56  \n",
       "132           1060698.0    14.84         11.74         17.95  \n",
       "133           1822284.0    19.80         15.35         24.25  \n",
       "134           1007265.0    19.53         14.71         24.34  \n",
       "135            857084.0    16.40         12.92         19.88  \n",
       "136            896899.0    22.32         18.88         25.76  \n",
       "137            718890.0    16.94         14.63         19.25  \n",
       "\n",
       "[138 rows x 8 columns]"
      ]
     },
     "execution_count": 2,
     "metadata": {},
     "output_type": "execute_result"
    }
   ],
   "source": [
    "data = pd.read_csv('adult-depression-lghc-indicator-24.csv')\n",
    "data"
   ]
  },
  {
   "cell_type": "markdown",
   "metadata": {},
   "source": [
    "#### 1.1 Genders"
   ]
  },
  {
   "cell_type": "code",
   "execution_count": 3,
   "metadata": {},
   "outputs": [],
   "source": [
    "data_male = data[data['Strata Name'].str.strip() == 'Male']\n",
    "data_female = data[data['Strata Name'].str.strip() == 'Female']\n",
    "percent_male = data_male['Percent']\n",
    "percent_female = data_female['Percent']"
   ]
  },
  {
   "cell_type": "code",
   "execution_count": 4,
   "metadata": {},
   "outputs": [
    {
     "name": "stdout",
     "output_type": "stream",
     "text": [
      "mean of percentage of male: 10.638333333333334\n",
      "mean of percentage of female: 17.205000000000002\n",
      "Variance of percentage of male: 4.125247222222222\n",
      "Variance of percentage of female: 7.643124999999995\n",
      "Different in means: -6.566666666666668\n"
     ]
    }
   ],
   "source": [
    "print(\"mean of percentage of male:\", percent_male.mean())\n",
    "print(\"mean of percentage of female:\", percent_female.mean())\n",
    "#print(\"mean of percentage of all gender:\", (percent_male.mean() + percent_female.mean()) / 2)\n",
    "male_var = np.var(percent_male)\n",
    "female_var = np.var(percent_female)\n",
    "print(\"Variance of percentage of male:\", male_var)\n",
    "print(\"Variance of percentage of female:\", female_var)\n",
    "print(\"Different in means:\", np.mean(percent_male) - np.mean(percent_female))"
   ]
  },
  {
   "cell_type": "code",
   "execution_count": 5,
   "metadata": {},
   "outputs": [
    {
     "data": {
      "text/plain": [
       "<matplotlib.legend.Legend at 0x1ea4217ec50>"
      ]
     },
     "execution_count": 5,
     "metadata": {},
     "output_type": "execute_result"
    },
    {
     "data": {
      "image/png": "[encoded data removed]",
      "text/plain": [
       "<Figure size 720x720 with 1 Axes>"
      ]
     },
     "metadata": {
      "needs_background": "light"
     },
     "output_type": "display_data"
    }
   ],
   "source": [
    "pos = np.arange(6)\n",
    "bar_width = 0.3\n",
    "sex = [\"Male\", \"Female\"]\n",
    "fig = plt.figure(figsize = (10, 10))\n",
    "plt.bar(pos, percent_male, bar_width, color = \"dodgerblue\", edgecolor = \"black\")\n",
    "plt.bar(pos+bar_width, percent_female, bar_width, color = \"hotpink\", edgecolor = \"black\")\n",
    "plt.xticks(pos + bar_width * 0.5, [2012, 2013, 2017, 2015, 2016, 2017])\n",
    "plt.xlabel(\"Year\")\n",
    "plt.ylabel(\"Percentage of People in Drepession\")\n",
    "plt.suptitle(\"Percentage of People in Drepession by Gender\", fontsize = 12, y = 0.92)\n",
    "plt.legend(sex)"
   ]
  },
  {
   "cell_type": "markdown",
   "metadata": {},
   "source": [
    "#### 1.2 Education"
   ]
  },
  {
   "cell_type": "code",
   "execution_count": 6,
   "metadata": {},
   "outputs": [],
   "source": [
    "percent_no_school = data[data['Strata Name'].str.strip() == 'No High School Diploma']['Percent']\n",
    "percent_high_school = data[data['Strata Name'].str.strip() == 'High School Graduate or GED Certificate']['Percent']\n",
    "percent_tech_school = data[data['Strata Name'].str.strip() == 'Some College or Tech School']['Percent']\n",
    "percent_college = data[data['Strata Name'].str.strip() == 'College Graduate or Post Grad']['Percent']"
   ]
  },
  {
   "cell_type": "code",
   "execution_count": 7,
   "metadata": {},
   "outputs": [
    {
     "name": "stdout",
     "output_type": "stream",
     "text": [
      "mean of percentage of no high school diploma: 13.985\n",
      "mean of percentage of high school graduate or GED certificate: 14.628333333333332\n",
      "mean of percentage of some college or tech school: 16.451666666666668\n",
      "mean of percentage of college graduate or post grad: 12.146666666666668\n",
      "variance of no high school diploma: 2.2415916666666664\n",
      "variance of high school graduate or GED certificate: 13.25924722222222\n",
      "variance of some college or tech school: 9.211247222222225\n",
      "variance of college graduate or post grad: 3.250922222222222\n"
     ]
    }
   ],
   "source": [
    "print(\"mean of percentage of no high school diploma:\", percent_no_school.mean())\n",
    "print(\"mean of percentage of high school graduate or GED certificate:\", percent_high_school.mean())\n",
    "print(\"mean of percentage of some college or tech school:\", percent_tech_school.mean())\n",
    "print(\"mean of percentage of college graduate or post grad:\", percent_college.mean())\n",
    "print(\"variance of no high school diploma:\", np.var(percent_no_school))\n",
    "print(\"variance of high school graduate or GED certificate:\", np.var(percent_high_school))\n",
    "print(\"variance of some college or tech school:\", np.var(percent_tech_school))\n",
    "print(\"variance of college graduate or post grad:\", np.var(percent_college))"
   ]
  },
  {
   "cell_type": "code",
   "execution_count": 8,
   "metadata": {
    "scrolled": true
   },
   "outputs": [
    {
     "data": {
      "text/plain": [
       "<matplotlib.legend.Legend at 0x1ea4240b5c0>"
      ]
     },
     "execution_count": 8,
     "metadata": {},
     "output_type": "execute_result"
    },
    {
     "data": {
      "image/png": "[encoded data removed]",
      "text/plain": [
       "<Figure size 720x720 with 1 Axes>"
      ]
     },
     "metadata": {
      "needs_background": "light"
     },
     "output_type": "display_data"
    }
   ],
   "source": [
    "pos = np.arange(6)\n",
    "bar_width = 0.15\n",
    "education = [\"No High School Diploma\", \n",
    "             \"High School Graduate or GED Certificate\", \n",
    "             \"Some College or Tech School\", \n",
    "             \"College Graduate or Post Grad\"]\n",
    "fig = plt.figure(figsize = (10, 10))\n",
    "plt.bar(pos, percent_no_school, bar_width, color = \"dodgerblue\", edgecolor = \"black\")\n",
    "plt.bar(pos+bar_width, percent_high_school, bar_width, color = \"hotpink\", edgecolor = \"black\")\n",
    "plt.bar(pos+(bar_width*2), percent_tech_school, bar_width, color = \"forestgreen\", edgecolor = \"black\")\n",
    "plt.bar(pos+(bar_width*3), percent_college, bar_width, color = \"rebeccapurple\", edgecolor = \"black\")\n",
    "plt.xticks(pos + bar_width * 1.5, [2012, 2013, 2017, 2015, 2016, 2017])\n",
    "plt.xlabel(\"Year\")\n",
    "plt.ylabel(\"Percentage of People in Drepession\")\n",
    "plt.suptitle(\"Percentage of People in Drepession by Education\", fontsize = 12, y = 0.92)\n",
    "plt.legend(education)"
   ]
  },
  {
   "cell_type": "markdown",
   "metadata": {},
   "source": [
    "From the graph, we cannot really tell which one has the higher tendency being in depression among who has no high school diploma, who has high school graduated or GED and who has some college and tech college. But we can see that the people who has college graduate or post grad has the lower depression percentage than the other three group of people."
   ]
  },
  {
   "cell_type": "markdown",
   "metadata": {},
   "source": [
    "#### 1.3 Race-Ethnicity"
   ]
  },
  {
   "cell_type": "code",
   "execution_count": 9,
   "metadata": {},
   "outputs": [],
   "source": [
    "percent_White = data[data['Strata Name'].str.strip() == 'White']['Percent']\n",
    "percent_Black = data[data['Strata Name'].str.strip() == 'Black']['Percent']\n",
    "percent_Hispanic = data[data['Strata Name'].str.strip() == 'Hispanic']['Percent']\n",
    "percent_Asian = data[data['Strata Name'].str.strip() == 'Asian/Pacific Islander']['Percent']\n",
    "percent_Other = data[data['Strata Name'].str.strip() == 'Other']['Percent']"
   ]
  },
  {
   "cell_type": "code",
   "execution_count": 10,
   "metadata": {},
   "outputs": [
    {
     "name": "stdout",
     "output_type": "stream",
     "text": [
      "mean of percentage of White: 17.36\n",
      "mean of percentage of Black: 13.968333333333334\n",
      "mean of percentage of Hispanic: 11.575000000000001\n",
      "mean of percentage of Asian/Pacific Islander: 5.52\n",
      "mean of percentage of Other: 22.846666666666668\n",
      "variance of White: 6.705733333333331\n",
      "variance of Black: 4.2295805555555575\n",
      "variance of Hispanic: 4.442458333333332\n",
      "variance of Asian/Pacific Islander: 1.4487666666666665\n",
      "variance of Other: 26.830955555555565\n"
     ]
    }
   ],
   "source": [
    "print(\"mean of percentage of White:\", percent_White.mean())\n",
    "print(\"mean of percentage of Black:\", percent_Black.mean())\n",
    "print(\"mean of percentage of Hispanic:\", percent_Hispanic.mean())\n",
    "print(\"mean of percentage of Asian/Pacific Islander:\", percent_Asian.mean())\n",
    "print(\"mean of percentage of Other:\", percent_Other.mean())\n",
    "print(\"variance of White:\", np.var(percent_White))\n",
    "print(\"variance of Black:\", np.var(percent_Black))\n",
    "print(\"variance of Hispanic:\", np.var(percent_Hispanic))\n",
    "print(\"variance of Asian/Pacific Islander:\", np.var(percent_Asian))\n",
    "print(\"variance of Other:\", np.var(percent_Other))"
   ]
  },
  {
   "cell_type": "code",
   "execution_count": 11,
   "metadata": {},
   "outputs": [
    {
     "data": {
      "text/plain": [
       "<matplotlib.legend.Legend at 0x1ea42237da0>"
      ]
     },
     "execution_count": 11,
     "metadata": {},
     "output_type": "execute_result"
    },
    {
     "data": {
      "image/png": "[encoded data removed]",
      "text/plain": [
       "<Figure size 720x720 with 1 Axes>"
      ]
     },
     "metadata": {
      "needs_background": "light"
     },
     "output_type": "display_data"
    }
   ],
   "source": [
    "pos = np.arange(6)\n",
    "bar_width = 0.15\n",
    "race = [\"White\", \"Black\", \"Hispanic\", \"Asian/Pacific Islander\", \"Other\"]\n",
    "fig = plt.figure(figsize = (10, 10))\n",
    "plt.bar(pos, percent_White, bar_width, color = \"dodgerblue\", edgecolor = \"black\")\n",
    "plt.bar(pos+bar_width, percent_Black, bar_width, color = \"hotpink\", edgecolor = \"black\")\n",
    "plt.bar(pos+(bar_width*2), percent_Hispanic, bar_width, color = \"forestgreen\", edgecolor = \"black\")\n",
    "plt.bar(pos+(bar_width*3), percent_Asian, bar_width, color = \"rebeccapurple\", edgecolor = \"black\")\n",
    "plt.bar(pos+(bar_width*4), percent_Other, bar_width, color = \"firebrick\", edgecolor = \"black\")\n",
    "plt.xticks(pos + bar_width * 2, [2012, 2013, 2017, 2015, 2016, 2017])\n",
    "plt.xlabel(\"Year\")\n",
    "plt.ylabel(\"Percentage of People in Drepession\")\n",
    "plt.suptitle(\"Percentage of People in Drepession by Race\", fontsize = 12, y = 0.92)\n",
    "plt.legend(race)"
   ]
  },
  {
   "cell_type": "markdown",
   "metadata": {},
   "source": [
    "#### 1.4 Income"
   ]
  },
  {
   "cell_type": "code",
   "execution_count": 12,
   "metadata": {},
   "outputs": [],
   "source": [
    "income_1 = data[data['Strata Name'].str.strip() == '< $20,000']['Percent']\n",
    "income_2 = data[data['Strata Name'].str.strip() == '$20,000 - $34,999']['Percent']\n",
    "income_3 = data[data['Strata Name'].str.strip() == '$35,000 - $49,999']['Percent']\n",
    "income_4 = data[data['Strata Name'].str.strip() == '$50,000 - $74,999']['Percent']\n",
    "income_5 = data[data['Strata Name'].str.strip() == '$75,000 - $99,999']['Percent']\n",
    "income_6 = data[data['Strata Name'].str.strip() == '$100,000+']['Percent']"
   ]
  },
  {
   "cell_type": "code",
   "execution_count": 13,
   "metadata": {},
   "outputs": [
    {
     "name": "stdout",
     "output_type": "stream",
     "text": [
      "mean of income less than $20,000: 20.669999999999998\n",
      "mean of income between $20,000 and $34,999: 14.033333333333331\n",
      "mean of income between $35,000 and $49,999: 13.555\n",
      "mean of income between $50,000 and $74,999: 13.836666666666668\n",
      "mean of income between $75,000 and $99,999: 12.33\n",
      "mean of income greater than $100,000: 10.695\n",
      "Variance of income less than $20,000: 21.321433333333335\n",
      "Variance of income between $20,000 and $34,999: 2.639155555555556\n",
      "Variance of income between $35,000 and $49,999: 6.285591666666665\n",
      "Variance of income between $50,000 and $74,999: 9.397355555555555\n",
      "Variance of income between $75,000 and $99,999: 2.456733333333333\n",
      "Variance of income greater than $100,000: 4.695625\n"
     ]
    }
   ],
   "source": [
    "print(\"mean of income less than $20,000:\", income_1.mean())\n",
    "print(\"mean of income between $20,000 and $34,999:\", income_2.mean())\n",
    "print(\"mean of income between $35,000 and $49,999:\", income_3.mean())\n",
    "print(\"mean of income between $50,000 and $74,999:\", income_4.mean())\n",
    "print(\"mean of income between $75,000 and $99,999:\", income_5.mean())\n",
    "print(\"mean of income greater than $100,000:\", income_6.mean())\n",
    "print(\"Variance of income less than $20,000:\", np.var(income_1))\n",
    "print(\"Variance of income between $20,000 and $34,999:\", np.var(income_2))\n",
    "print(\"Variance of income between $35,000 and $49,999:\", np.var(income_3))\n",
    "print(\"Variance of income between $50,000 and $74,999:\", np.var(income_4))\n",
    "print(\"Variance of income between $75,000 and $99,999:\", np.var(income_5))\n",
    "print(\"Variance of income greater than $100,000:\", np.var(income_6))"
   ]
  },
  {
   "cell_type": "code",
   "execution_count": 14,
   "metadata": {},
   "outputs": [
    {
     "data": {
      "text/plain": [
       "<matplotlib.legend.Legend at 0x1ea42305b70>"
      ]
     },
     "execution_count": 14,
     "metadata": {},
     "output_type": "execute_result"
    },
    {
     "data": {
      "image/png": "[encoded data removed]",
      "text/plain": [
       "<Figure size 720x720 with 1 Axes>"
      ]
     },
     "metadata": {
      "needs_background": "light"
     },
     "output_type": "display_data"
    }
   ],
   "source": [
    "pos = np.arange(6)\n",
    "bar_width = 0.12\n",
    "income = [\"< $20,000\", \"20,000− 34,999\", \"35,000− 49,999\", \"50,000− 74,999\", \"75,000− 99,999\", \"$100,000+\"]\n",
    "fig = plt.figure(figsize = (10, 10))\n",
    "plt.bar(pos, income_1, bar_width, color = \"dodgerblue\", edgecolor = \"black\")\n",
    "plt.bar(pos+bar_width, income_2, bar_width, color = \"hotpink\", edgecolor = \"black\")\n",
    "plt.bar(pos+(bar_width*2), income_3, bar_width, color = \"forestgreen\", edgecolor = \"black\")\n",
    "plt.bar(pos+(bar_width*3), income_4, bar_width, color = \"rebeccapurple\", edgecolor = \"black\")\n",
    "plt.bar(pos+(bar_width*4), income_5, bar_width, color = \"firebrick\", edgecolor = \"black\")\n",
    "plt.bar(pos+(bar_width*5), income_6, bar_width, color = \"goldenrod\", edgecolor = \"black\")\n",
    "plt.xticks(pos + bar_width * 2.5, [2012, 2013, 2017, 2015, 2016, 2017])\n",
    "plt.xlabel(\"Year\")\n",
    "plt.ylabel(\"Percentage of People in Drepession\")\n",
    "plt.suptitle(\"Percentage of People in Drepession by Income\", fontsize = 12, y = 0.92)\n",
    "plt.legend(income)"
   ]
  },
  {
   "cell_type": "markdown",
   "metadata": {},
   "source": [
    "#### 1.5 Age"
   ]
  },
  {
   "cell_type": "code",
   "execution_count": 15,
   "metadata": {},
   "outputs": [],
   "source": [
    "age_1 = data[data['Strata Name'].str.strip() == '18 to 34']['Percent']\n",
    "age_2 = data[data['Strata Name'].str.strip() == '35 to 44']['Percent']\n",
    "age_3 = data[data['Strata Name'].str.strip() == '45 to 54']['Percent']\n",
    "age_4 = data[data['Strata Name'].str.strip() == '55 to 64']['Percent']\n",
    "age_5 = data[data['Strata Name'].str.strip() == '65+ years']['Percent']"
   ]
  },
  {
   "cell_type": "code",
   "execution_count": 16,
   "metadata": {},
   "outputs": [
    {
     "name": "stdout",
     "output_type": "stream",
     "text": [
      "mean of age between 18 and 34: 11.536666666666667\n",
      "mean of age between 35 and 44: 13.265\n",
      "mean of age between 45 and 54: 15.059999999999997\n",
      "mean of age between 55 and 64: 18.90833333333333\n",
      "mean of age greater than 65: 14.104999999999999\n",
      "variance of age between 18 and 34: 15.157422222222223\n",
      "variance of age between 35 and 44: 9.243658333333336\n",
      "variance of age between 45 and 54: 1.4381333333333324\n",
      "variance of age between 55 and 64: 3.268480555555556\n",
      "variance of age greater than 65: 1.975525000000001\n"
     ]
    }
   ],
   "source": [
    "print(\"mean of age between 18 and 34:\", np.mean(age_1))\n",
    "print(\"mean of age between 35 and 44:\", np.mean(age_2))\n",
    "print(\"mean of age between 45 and 54:\", np.mean(age_3))\n",
    "print(\"mean of age between 55 and 64:\", np.mean(age_4))\n",
    "print(\"mean of age greater than 65:\", np.mean(age_5))\n",
    "print(\"variance of age between 18 and 34:\", np.var(age_1))\n",
    "print(\"variance of age between 35 and 44:\", np.var(age_2))\n",
    "print(\"variance of age between 45 and 54:\", np.var(age_3))\n",
    "print(\"variance of age between 55 and 64:\", np.var(age_4))\n",
    "print(\"variance of age greater than 65:\", np.var(age_5))"
   ]
  },
  {
   "cell_type": "code",
   "execution_count": 17,
   "metadata": {},
   "outputs": [
    {
     "data": {
      "text/plain": [
       "<matplotlib.legend.Legend at 0x1ea425e7710>"
      ]
     },
     "execution_count": 17,
     "metadata": {},
     "output_type": "execute_result"
    },
    {
     "data": {
      "image/png": "[encoded data removed]",
      "text/plain": [
       "<Figure size 720x720 with 1 Axes>"
      ]
     },
     "metadata": {
      "needs_background": "light"
     },
     "output_type": "display_data"
    }
   ],
   "source": [
    "pos = np.arange(6)\n",
    "bar_width = 0.15\n",
    "age = [\"18 to 34\", \"35 to 44\", \"45 to 54\", \"55 to 64\", \"65+\"]\n",
    "fig = plt.figure(figsize = (10, 10))\n",
    "plt.bar(pos, age_1, bar_width, color = \"dodgerblue\", edgecolor = \"black\")\n",
    "plt.bar(pos+bar_width, age_2, bar_width, color = \"hotpink\", edgecolor = \"black\")\n",
    "plt.bar(pos+(bar_width*2), age_3, bar_width, color = \"forestgreen\", edgecolor = \"black\")\n",
    "plt.bar(pos+(bar_width*3), age_4, bar_width, color = \"rebeccapurple\", edgecolor = \"black\")\n",
    "plt.bar(pos+(bar_width*4), age_5, bar_width, color = \"firebrick\", edgecolor = \"black\")\n",
    "plt.xticks(pos + bar_width * 2, [2012, 2013, 2017, 2015, 2016, 2017])\n",
    "plt.xlabel(\"Year\")\n",
    "plt.ylabel(\"Percentage of People in Drepession\")\n",
    "plt.suptitle(\"Percentage of People in Drepession by Age\", fontsize = 12, y = 0.92)\n",
    "plt.legend(age)"
   ]
  },
  {
   "cell_type": "markdown",
   "metadata": {},
   "source": [
    "#### 1.6 Total percentage of people having depression"
   ]
  },
  {
   "cell_type": "code",
   "execution_count": 18,
   "metadata": {},
   "outputs": [],
   "source": [
    "percent_total = data[data['Strata Name'] == 'Total']['Percent']"
   ]
  },
  {
   "cell_type": "code",
   "execution_count": 19,
   "metadata": {},
   "outputs": [
    {
     "data": {
      "text/plain": [
       "Text(0.5, 0.92, 'Total Percentage of People in Drepession')"
      ]
     },
     "execution_count": 19,
     "metadata": {},
     "output_type": "execute_result"
    },
    {
     "data": {
      "image/png": "[encoded data removed]",
      "text/plain": [
       "<Figure size 720x720 with 1 Axes>"
      ]
     },
     "metadata": {
      "needs_background": "light"
     },
     "output_type": "display_data"
    }
   ],
   "source": [
    "pos = np.arange(6)\n",
    "fig = plt.figure(figsize = (10, 10))\n",
    "plt.bar(pos, percent_total, color = \"dodgerblue\", edgecolor = \"black\")\n",
    "plt.xticks(pos, [2012, 2013, 2017, 2015, 2016, 2017])\n",
    "plt.xlabel(\"Year\")\n",
    "plt.ylabel(\"Percentage of People in Drepession\")\n",
    "plt.suptitle(\"Total Percentage of People in Drepession\", fontsize = 12, y = 0.92)"
   ]
  },
  {
   "cell_type": "markdown",
   "metadata": {},
   "source": [
    "From the results we can roughly see that there're many criterias affects the percentage of people having depression.  \n",
    "For gender aspect, 10.64% of male has depression in average, while 17.20% of female does. Also, male has the variance of 4.13 comparing with the variance of 7.64 of female. The means give the idea that female may has higher chance to get depression than male. The variances indicate that male is more stable than female in getting depression.  \n",
    "For education aspect, people who has some college or tech school background has the highest average perenctage of getting depression from 2012 to 2017. But this group of people has the second highest variance of 9.21. The people who has high school diploma or GRE certification has the highest variance of 13.26. This group of people has the tendancy that increase the most.  \n",
    "For race aspect, the combine of other race has the highest average percentage of getting depression and variance. When we come to the named races, White people has the highest average percentage of getting depression and variance.  \n",
    "For income aspect, the people earns less than 20,000 has extramly higher averrage percentage of getting depression and variance than other group of people. This group of people's average is 20.67% comparing to others' less than 15%. It's variance is 21.32, while others' are less than 10.\n",
    "For age apsect, people who is between 55 to 64 has the highest percentage of getting depression, which is 18.91. The people who is between 18 to 34 has the highest variance, which is 15.16.\n",
    "In gerneal, the people getting drepression has the tendancy of increasing."
   ]
  },
  {
   "cell_type": "markdown",
   "metadata": {},
   "source": [
    "### 2. Hypothesis Testing"
   ]
  },
  {
   "cell_type": "code",
   "execution_count": 20,
   "metadata": {},
   "outputs": [],
   "source": [
    "def get_bootstrap_diff(a, b):\n",
    "    np.random.seed(42)\n",
    "    diff = []\n",
    "    for i in range(10000):\n",
    "        t = a + b\n",
    "        np.random.shuffle(t)\n",
    "        new_a = t[:len(a)]\n",
    "        new_b = t[len(a):]\n",
    "        diff.append(np.mean(new_a) - np.mean(new_b))\n",
    "    return diff"
   ]
  },
  {
   "cell_type": "code",
   "execution_count": 21,
   "metadata": {},
   "outputs": [],
   "source": [
    "def get_reject_more_and_p(level, diff, diference):\n",
    "    print(\"Rejection Region: more than:\", np.percentile(diff, level))\n",
    "    #print(\"P-Value:\", (1-(stats.percentileofscore(diff, difference) / 100)))"
   ]
  },
  {
   "cell_type": "code",
   "execution_count": 22,
   "metadata": {},
   "outputs": [],
   "source": [
    "def get_reject_less_and_p(level, diff, difference):\n",
    "    print(\"Rejection Region: less than:\", np.percentile(diff, level))\n",
    "    #print(\"P-Value:\", stats.percentileofscore(diff, difference)/100)"
   ]
  },
  {
   "cell_type": "code",
   "execution_count": 23,
   "metadata": {},
   "outputs": [],
   "source": [
    "def bootstrap_testing(list1, list2, list1_name, list2_name, gorl, m_level):\n",
    "    print(\"Mean of\", list1_name, \":\", np.mean(list1))\n",
    "    print(\"Mean of\", list2_name, \":\", np.mean(list2))\n",
    "    m_difference = np.mean(list1)- np.mean(list2)\n",
    "    print(\"Difference in means :\", m_difference)\n",
    "    m_diff = get_bootstrap_diff(list1, list2)\n",
    "    \n",
    "    plt.hist(m_diff)\n",
    "    plt.xlabel(\"Diff between \" + list1_name + \" and \" + list2_name)\n",
    "    plt.ylabel(\"Count\")\n",
    "    plt.suptitle(\"Boostrap Distribution of Difference Between Samples\", fontsize = 10, y = 0.92)\n",
    "    \n",
    "    if(gorl == \"greater\"):\n",
    "        get_reject_more_and_p(m_level, m_diff, m_difference)\n",
    "    else:\n",
    "        get_reject_less_and_p(m_level, m_diff, m_difference)\n",
    "    return m_diff, m_difference"
   ]
  },
  {
   "cell_type": "markdown",
   "metadata": {},
   "source": [
    "#### 2.1 Gender aspect"
   ]
  },
  {
   "cell_type": "markdown",
   "metadata": {},
   "source": [
    "The perivous data shows that female has higher mean and variance than male, now I exam wether the gender is an issue.  \n",
    "* ***Null Hypothesis:*** male and female have no difference in getting depression\n",
    "* ***Alternative Hypothesis:*** male has less chance to get depression than female"
   ]
  },
  {
   "cell_type": "code",
   "execution_count": 24,
   "metadata": {},
   "outputs": [
    {
     "name": "stdout",
     "output_type": "stream",
     "text": [
      "Mean of male : 10.638333333333334\n",
      "Mean of female : 17.205000000000002\n",
      "Difference in means : -6.566666666666668\n",
      "Rejection Region: less than: -4.223333333333331\n",
      "P-Value: 0.0004\n"
     ]
    },
    {
     "data": {
      "image/png": "[encoded data removed]",
      "text/plain": [
       "<Figure size 432x288 with 1 Axes>"
      ]
     },
     "metadata": {
      "needs_background": "light"
     },
     "output_type": "display_data"
    }
   ],
   "source": [
    "diff, difference = bootstrap_testing(percent_male.tolist(), percent_female.tolist(), \"male\", \"female\", \"less\", 5)\n",
    "print(\"P-Value:\", stats.percentileofscore(diff, difference) / 100)"
   ]
  },
  {
   "cell_type": "markdown",
   "metadata": {},
   "source": [
    "The difference of mean between male and female is -6.57, which locates in the rejection region. Thus I can reject the null hypothesis that the male and female has no difference in getting depression, and accept the alternative hypothesis that the male has less chance getting depression than female, at significance level of 0.05.  \n",
    "This finding shows that gender is an issue for affecting the people getting depression.And female is more like to get depression than male."
   ]
  },
  {
   "cell_type": "markdown",
   "metadata": {},
   "source": [
    "#### 2.2 Education aspect"
   ]
  },
  {
   "cell_type": "markdown",
   "metadata": {},
   "source": [
    "The previous data shows education level can affect the chance of getting depression. By sorting the mean of chance of getting accroding to education in decresing order, we can have  \n",
    "1. some college or tech shcool\n",
    "2. high school graduate or GRE certificate\n",
    "3. no high school diploma\n",
    "4. college graduate or post grad  \n",
    "</a>  \n",
    "Now we can do the bootstrap testing repeatly to see if the \"some college or tech school\" background has the highest chance to get depression "
   ]
  },
  {
   "cell_type": "markdown",
   "metadata": {},
   "source": [
    "##### 2.2.1 \"Some college or tech school\" and \"High school graduate or GRE certificate\""
   ]
  },
  {
   "cell_type": "markdown",
   "metadata": {},
   "source": [
    "* **Null hypothesis:** People having some college or tech school background has the same chance to get depression as people having high school gradate or GRE certificate\n",
    "* **Alternative hypothesis:** People having some college tech school background has higher chance to get depression than people having high school graduate or GRE certificate"
   ]
  },
  {
   "cell_type": "code",
   "execution_count": 25,
   "metadata": {},
   "outputs": [
    {
     "name": "stdout",
     "output_type": "stream",
     "text": [
      "Mean of Some college or tech school : 16.451666666666668\n",
      "Mean of High school graduate or GRE certificate : 14.628333333333332\n",
      "Difference in means : 1.823333333333336\n",
      "Rejection Region: more than: 3.5166666666666657\n",
      "P-Value: 0.20415000000000005\n"
     ]
    },
    {
     "data": {
      "image/png": "[encoded data removed]",
      "text/plain": [
       "<Figure size 432x288 with 1 Axes>"
      ]
     },
     "metadata": {
      "needs_background": "light"
     },
     "output_type": "display_data"
    }
   ],
   "source": [
    "diff, difference = bootstrap_testing(percent_tech_school.tolist(), percent_high_school.tolist(), \"Some college or tech school\", \"High school graduate or GRE certificate\", \"greater\", 95)\n",
    "print(\"P-Value:\", (1-(stats.percentileofscore(diff, difference) / 100)))"
   ]
  },
  {
   "cell_type": "markdown",
   "metadata": {},
   "source": [
    "The difference between two sample is out side of the reject region, which indicates null hypothesis should be accepted at significance level of 0.05. That is, the people having some college or tech school background has the same chance to get depression as people having high school gradate or GRE certificate."
   ]
  },
  {
   "cell_type": "markdown",
   "metadata": {},
   "source": [
    "##### 2.2.2 \"Some high school\" and \"No high school\""
   ]
  },
  {
   "cell_type": "markdown",
   "metadata": {},
   "source": [
    "* **Null hypothesis:** People having some college or tech school background has the same chance to get depression as people having no high school diploma.\n",
    "* **Alternative hypothesis:** People having some college tech school background has higher chance to get depression than people having no high school diploma."
   ]
  },
  {
   "cell_type": "code",
   "execution_count": 26,
   "metadata": {},
   "outputs": [
    {
     "name": "stdout",
     "output_type": "stream",
     "text": [
      "Mean of Some college or tech school : 16.451666666666668\n",
      "Mean of No high school diploma : 13.985\n",
      "Difference in means : 2.4666666666666686\n",
      "Rejection Region: more than: 2.4771666666666623\n",
      "P-Value: 0.05159999999999998\n"
     ]
    },
    {
     "data": {
      "image/png": "[encoded data removed]",
      "text/plain": [
       "<Figure size 432x288 with 1 Axes>"
      ]
     },
     "metadata": {
      "needs_background": "light"
     },
     "output_type": "display_data"
    }
   ],
   "source": [
    "diff, difference = bootstrap_testing(percent_tech_school.tolist(), percent_no_school.tolist(), \"Some college or tech school\", \"No high school diploma\", \"greater\", 95)\n",
    "print(\"P-Value:\", (1-(stats.percentileofscore(diff, difference) / 100)))"
   ]
  },
  {
   "cell_type": "markdown",
   "metadata": {},
   "source": [
    "At significance level of 0.05, the difference is outside of the reject region. So that we can accept the null hypothesis that people having some college or tech school background has the same chance to get depression as people having no high school diploma."
   ]
  },
  {
   "cell_type": "markdown",
   "metadata": {},
   "source": [
    "##### 2.2.3 \"Some high school\" and \"College graduate\""
   ]
  },
  {
   "cell_type": "markdown",
   "metadata": {},
   "source": [
    "* **Null hypothesis:** People having some college or tech school background has the same chance to get depression as people having college graduate or post grad.\n",
    "* **Alternative hypothesis:** People having some college tech school background has higher chance to get depression than people having college graduate or post grad."
   ]
  },
  {
   "cell_type": "code",
   "execution_count": 27,
   "metadata": {},
   "outputs": [
    {
     "name": "stdout",
     "output_type": "stream",
     "text": [
      "Mean of Some college or tech school : 16.451666666666668\n",
      "Mean of College graduate or post grad : 12.146666666666668\n",
      "Difference in means : 4.305\n",
      "Rejection Region: more than: 3.155000000000001\n",
      "P-Value: 0.006800000000000028\n"
     ]
    },
    {
     "data": {
      "image/png": "[encoded data removed]",
      "text/plain": [
       "<Figure size 432x288 with 1 Axes>"
      ]
     },
     "metadata": {
      "needs_background": "light"
     },
     "output_type": "display_data"
    }
   ],
   "source": [
    "diff, difference = bootstrap_testing(percent_tech_school.tolist(), percent_college.tolist(), \"Some college or tech school\", \"College graduate or post grad\", \"greater\", 95)\n",
    "print(\"P-Value:\", (1-(stats.percentileofscore(diff, difference) / 100)))"
   ]
  },
  {
   "cell_type": "markdown",
   "metadata": {},
   "source": [
    "At significance level of 0.05, the difference locates in the reject region, which requires us reject the null hypothesis and accept the alternative hypothesis. That is, the people having some college tech school background has higher chance to get depression than people having college graduate or post grad."
   ]
  },
  {
   "cell_type": "markdown",
   "metadata": {},
   "source": [
    "##### 2.2.4 conclusion of the effect of education aspect    \n",
    "From the hypothesis testings, we can see that the \"some college or tech school\" has no statistic difference with \"high school graduate or GRE certificate\" and \"no high school diploma\" in the chance of getting depression. We could consider the people having any one of those education level have the same probability to get depression. The \"College graduate or post grad\" education level shows a difference in getting depression than the education level of \"high school graduate or GRE certificate\", which inidcates that people having college degree have less chance in getting depression. "
   ]
  },
  {
   "cell_type": "markdown",
   "metadata": {},
   "source": [
    "#### 2.3 Race aspect"
   ]
  },
  {
   "cell_type": "markdown",
   "metadata": {},
   "source": [
    "The previous data shows education level can affect the chance of getting depression. By sorting the mean of chance of getting accroding to education in decresing order, we can have  \n",
    "1. Other: 22.85\n",
    "2. White: 17.36\n",
    "3. Black: 13.97\n",
    "4. Hispanic: 11.58\n",
    "5. Asian/Pacific Islander: 5.52  \n",
    "Considering that Other is the combination of a hugh amount of other races, in thie section, we just compute the named races and don't take Other into comperation."
   ]
  },
  {
   "cell_type": "markdown",
   "metadata": {},
   "source": [
    "##### 2.3.1 White vs Black"
   ]
  },
  {
   "cell_type": "markdown",
   "metadata": {},
   "source": [
    "* **Null Hypothesis:** White and Black have the same chance in getting depression\n",
    "* **Alternative Hypothesis:** White has higher chance in getting depression than Black"
   ]
  },
  {
   "cell_type": "code",
   "execution_count": 28,
   "metadata": {},
   "outputs": [
    {
     "name": "stdout",
     "output_type": "stream",
     "text": [
      "Mean of White : 17.36\n",
      "Mean of Black : 13.968333333333334\n",
      "Difference in means : 3.3916666666666657\n",
      "Rejection Region: more than: 2.854999999999995\n",
      "P-Value: 0.015800000000000036\n"
     ]
    },
    {
     "data": {
      "image/png": "[encoded data removed]",
      "text/plain": [
       "<Figure size 432x288 with 1 Axes>"
      ]
     },
     "metadata": {
      "needs_background": "light"
     },
     "output_type": "display_data"
    }
   ],
   "source": [
    "diff, difference = bootstrap_testing(percent_White.tolist(), percent_Black.tolist(), \"White\", \"Black\", \"greater\", 95)\n",
    "print(\"P-Value:\", (1-(stats.percentileofscore(diff, difference) / 100)))"
   ]
  },
  {
   "cell_type": "markdown",
   "metadata": {},
   "source": [
    "The difference White and Black is locates in the rejection region, which means null ghypothesis should be rejected. Thus, White has a higher in getting depression than Black."
   ]
  },
  {
   "cell_type": "markdown",
   "metadata": {},
   "source": [
    "##### 2.3.2 White vs Hispanic"
   ]
  },
  {
   "cell_type": "markdown",
   "metadata": {},
   "source": [
    "* **Null Hypothesis:** White and Hispanic have the same chance in getting depression\n",
    "* **Alternative Hypothesis:** White has higher chance in getting depression than Hispanic"
   ]
  },
  {
   "cell_type": "code",
   "execution_count": 29,
   "metadata": {},
   "outputs": [
    {
     "name": "stdout",
     "output_type": "stream",
     "text": [
      "Mean of White : 17.36\n",
      "Mean of Hispanic : 11.575000000000001\n",
      "Difference in means : 5.784999999999998\n",
      "Rejection Region: more than: 3.8183333333333334\n",
      "P-Value: 0.0034000000000000696\n"
     ]
    },
    {
     "data": {
      "image/png": "[encoded data removed]",
      "text/plain": [
       "<Figure size 432x288 with 1 Axes>"
      ]
     },
     "metadata": {
      "needs_background": "light"
     },
     "output_type": "display_data"
    }
   ],
   "source": [
    "diff, difference = bootstrap_testing(percent_White.tolist(), percent_Hispanic.tolist(), \"White\", \"Hispanic\", \"greater\", 95)\n",
    "print(\"P-Value:\", (1-(stats.percentileofscore(diff, difference) / 100)))"
   ]
  },
  {
   "cell_type": "markdown",
   "metadata": {},
   "source": [
    "The difference between Whiteand Hispanic is locates in the rejection region; hull hypothesis need to be rejected. This indicates that White has higher chance in getting depression than Hispanic."
   ]
  },
  {
   "cell_type": "markdown",
   "metadata": {},
   "source": [
    "##### 2.3.3 White vs Asian/Pacific"
   ]
  },
  {
   "cell_type": "markdown",
   "metadata": {},
   "source": [
    "* **Null Hypothesis:** White and Asian/Pacific have the same chance in getting depression\n",
    "* **Alternative Hypothesis:** White has higher chance in getting depression than Asian/Pacific"
   ]
  },
  {
   "cell_type": "code",
   "execution_count": 30,
   "metadata": {},
   "outputs": [
    {
     "name": "stdout",
     "output_type": "stream",
     "text": [
      "Mean of White : 17.36\n",
      "Mean of Asian/Pacific : 5.52\n",
      "Difference in means : 11.84\n",
      "Rejection Region: more than: 5.7333333333333325\n",
      "P-Value: 0.00029999999999996696\n"
     ]
    },
    {
     "data": {
      "image/png": "[encoded data removed]",
      "text/plain": [
       "<Figure size 432x288 with 1 Axes>"
      ]
     },
     "metadata": {
      "needs_background": "light"
     },
     "output_type": "display_data"
    }
   ],
   "source": [
    "diff, difference = bootstrap_testing(percent_White.tolist(), percent_Asian.tolist(), \"White\", \"Asian/Pacific\", \"greater\", 95)\n",
    "print(\"P-Value:\", (1-(stats.percentileofscore(diff, difference) / 100)))"
   ]
  },
  {
   "cell_type": "markdown",
   "metadata": {},
   "source": [
    "The difference is inside of the rejection region, which requires us to reject the null hypothesis. That's saying, White has a higher chance in getting depression than Asian/Pacific."
   ]
  },
  {
   "cell_type": "markdown",
   "metadata": {},
   "source": [
    "##### 2.3.4 conclusion"
   ]
  },
  {
   "cell_type": "markdown",
   "metadata": {},
   "source": [
    "From the bootstrap testings above, the White race has signficantly higher chance in getting depression than Black, Hispanic and Asian/Pacific races, at the significant level of 0.05. This indicates that race effects the chance of getting depression and White people has the highest chance."
   ]
  },
  {
   "cell_type": "markdown",
   "metadata": {},
   "source": [
    "#### 2.4 Income aspect"
   ]
  },
  {
   "cell_type": "markdown",
   "metadata": {},
   "source": [
    "The previous data shows income level can affect the chance of getting depression. By sorting the mean of chance of getting accroding to income interval in decresing order, we can have  \n",
    "1. less than \\\\$20,000: 20.67\n",
    "2. \\\\$20,000 - \\\\$34,999: 14.03\n",
    "3. \\\\$50,000 - \\\\$74,999: 13.84\n",
    "4. \\\\$35,000 - \\\\$49,999: 13.56\n",
    "5. \\\\$75,000 - \\\\$99,999: 12.33\n",
    "6. greater than \\\\$100,000: 10.70  \n",
    "The list indicates that earning less than \\\\$20,000 a year may has the highest chance to get depression comparing to other income level. This section will preform bootstrap testing of \"less than \\\\$20,000\" and other income level to find whether earning less than \\\\$20,000 has the highest chance to get depression or not."
   ]
  },
  {
   "cell_type": "markdown",
   "metadata": {},
   "source": [
    "##### 2.4.1 Less than \\\\$20,000 and \\\\$20,000 - \\\\$34,999"
   ]
  },
  {
   "cell_type": "markdown",
   "metadata": {},
   "source": [
    "* **Null Hypothesis:** earning less than \\\\$20,000 has no difference in getting depression comparing with earning \\\\$20,000 - \\\\$34,999\n",
    "* **Alternative Hypothesis:** earning less than \\\\$20,000 has higher chance in getting depression than earning \\\\$20,000 - \\\\$34,999"
   ]
  },
  {
   "cell_type": "code",
   "execution_count": 31,
   "metadata": {},
   "outputs": [
    {
     "name": "stdout",
     "output_type": "stream",
     "text": [
      "Mean of Less than 20k : 20.669999999999998\n",
      "Mean of 20k - 35k : 14.033333333333331\n",
      "Difference in means : 6.636666666666667\n",
      "Rejection Region: more than: 4.67\n",
      "P-Value: 0.0016500000000000403\n"
     ]
    },
    {
     "data": {
      "image/png": "[encoded data removed]",
      "text/plain": [
       "<Figure size 432x288 with 1 Axes>"
      ]
     },
     "metadata": {
      "needs_background": "light"
     },
     "output_type": "display_data"
    }
   ],
   "source": [
    "diff, difference = bootstrap_testing(income_1.tolist(), income_2.tolist(), \"Less than 20k\", \"20k - 35k\", \"greater\", 95)\n",
    "print(\"P-Value:\", (1-(stats.percentileofscore(diff, difference) / 100)))"
   ]
  },
  {
   "cell_type": "markdown",
   "metadata": {},
   "source": [
    "Defference is in the rejection region, reject the null hypothesis. That means people earning less than\\\\$20,000 have higher chance in getting depression than those who earns \\\\$20,000 - \\\\$34,999."
   ]
  },
  {
   "cell_type": "markdown",
   "metadata": {},
   "source": [
    "##### 2.4.2 Less than \\\\$20,000 vs \\\\$50,000-\\\\$74,999"
   ]
  },
  {
   "cell_type": "markdown",
   "metadata": {},
   "source": [
    "* **Null Hypothesis:** earning less than \\\\$20,000 has no difference in getting depression comparing with earning \\\\$50,000 - \\\\$74,999\n",
    "* **Alternative Hypothesis:** earning less than \\\\$20,000 has higher chance in getting depression than earning \\\\$50,000 - \\\\$74,999"
   ]
  },
  {
   "cell_type": "code",
   "execution_count": 32,
   "metadata": {},
   "outputs": [
    {
     "name": "stdout",
     "output_type": "stream",
     "text": [
      "Mean of Less than 20k : 20.669999999999998\n",
      "Mean of 50k - 75k : 13.836666666666668\n",
      "Difference in means : 6.83333333333333\n",
      "Rejection Region: more than: 5.003333333333332\n",
      "P-Value: 0.005250000000000088\n"
     ]
    },
    {
     "data": {
      "image/png": "[encoded data removed]",
      "text/plain": [
       "<Figure size 432x288 with 1 Axes>"
      ]
     },
     "metadata": {
      "needs_background": "light"
     },
     "output_type": "display_data"
    }
   ],
   "source": [
    "diff, difference = bootstrap_testing(income_1.tolist(), income_4.tolist(), \"Less than 20k\", \"50k - 75k\", \"greater\", 95)\n",
    "print(\"P-Value:\", (1-(stats.percentileofscore(diff, difference) / 100)))"
   ]
  },
  {
   "cell_type": "markdown",
   "metadata": {},
   "source": [
    "The difference locates inside of the rejection region. Null hypothesis rejected, alternative hypothesis accpeted. That means, people earning less than \\\\$20,000 a year will have a higher chance in getting depression than those who earns \\\\$50,000 - \\\\$74,999. "
   ]
  },
  {
   "cell_type": "markdown",
   "metadata": {},
   "source": [
    "##### 2.4.3 Less than \\\\$20,000 vs \\\\$35,000 - \\\\$49,999"
   ]
  },
  {
   "cell_type": "markdown",
   "metadata": {},
   "source": [
    "* **Null Hypothesis:** earning less than \\\\$20,000 has no difference in getting depression comparing with earning \\\\$35,000 - \\\\$49,999\n",
    "* **Alternative Hypothesis:** earning less than \\\\$20,000 has higher chance in getting depression than earning \\\\$35,000 - \\\\$49,999"
   ]
  },
  {
   "cell_type": "code",
   "execution_count": 33,
   "metadata": {},
   "outputs": [
    {
     "name": "stdout",
     "output_type": "stream",
     "text": [
      "Mean of Less than 20k : 20.669999999999998\n",
      "Mean of 35k - 50k : 13.555\n",
      "Difference in means : 7.114999999999998\n",
      "Rejection Region: more than: 4.934999999999997\n",
      "P-Value: 0.0019499999999998963\n"
     ]
    },
    {
     "data": {
      "image/png": "[encoded data removed]",
      "text/plain": [
       "<Figure size 432x288 with 1 Axes>"
      ]
     },
     "metadata": {
      "needs_background": "light"
     },
     "output_type": "display_data"
    }
   ],
   "source": [
    "diff, difference = bootstrap_testing(income_1.tolist(), income_3.tolist(), \"Less than 20k\",\"35k - 50k\", \"greater\", 95)\n",
    "print(\"P-Value:\", (1-(stats.percentileofscore(diff, difference) / 100)))"
   ]
  },
  {
   "cell_type": "markdown",
   "metadata": {},
   "source": [
    "The difference locates inside of the rejection region. Rejecting the null hypothesis and accepting the alternative hypothesis. People earning less than \\\\$20,000 has a higher chance in getting depression than those earning \\\\$35,000 - \\\\$49,999"
   ]
  },
  {
   "cell_type": "markdown",
   "metadata": {},
   "source": [
    "##### 2.4.4 Less than \\\\$20,000 vs \\\\$75,000 - \\\\$99,999\n",
    "* **Null Hypothesis:** earning less than \\\\$20,000 has no difference in getting depression comparing with earning \\\\$75,000 - \\\\$99,999\n",
    "* **Alternative Hypothesis:** earning less than \\\\$20,000 has higher chance in getting depression than earning \\\\$75,000 - \\\\$99,999"
   ]
  },
  {
   "cell_type": "code",
   "execution_count": 34,
   "metadata": {},
   "outputs": [
    {
     "name": "stdout",
     "output_type": "stream",
     "text": [
      "Mean of Less than 20k : 20.669999999999998\n",
      "Mean of $75k - $100 : 12.33\n",
      "Difference in means : 8.339999999999998\n",
      "Rejection Region: less than: 5.1800000000000015\n",
      "P-Value: 0.0004999999999999449\n"
     ]
    },
    {
     "data": {
      "image/png": "[encoded data removed]",
      "text/plain": [
       "<Figure size 432x288 with 1 Axes>"
      ]
     },
     "metadata": {
      "needs_background": "light"
     },
     "output_type": "display_data"
    }
   ],
   "source": [
    "diff, difference = bootstrap_testing(income_1.tolist(), income_5.tolist(), \"Less than 20k\", \"$75k - $100\", \"geater\", 95)\n",
    "print(\"P-Value:\", (1-(stats.percentileofscore(diff, difference) / 100)))"
   ]
  },
  {
   "cell_type": "markdown",
   "metadata": {},
   "source": [
    "The difference locates inside of the rejection region. Rejecting the null hypothesis and accepting the alternative hypothesis. People earning less than \\\\$20,000 has a higher chance in getting depression than those earning \\\\$75,000 - \\\\$99,999"
   ]
  },
  {
   "cell_type": "markdown",
   "metadata": {},
   "source": [
    "##### 2.4.5 Less than \\\\$20,000 vs greater than \\\\$100,000\n",
    "* **Null Hypothesis:** earning less than \\\\$20,000 has no difference in getting depression comparing with earning greater than \\\\$100,000\n",
    "* **Alternative Hypothesis:** earning less than \\\\$20,000 has higher chance in getting depression than earning greater than \\\\$100,000"
   ]
  },
  {
   "cell_type": "code",
   "execution_count": 35,
   "metadata": {},
   "outputs": [
    {
     "name": "stdout",
     "output_type": "stream",
     "text": [
      "Mean of Less than 20k : 20.669999999999998\n",
      "Mean of  Greater than 100k : 10.695\n",
      "Difference in means : 9.974999999999998\n",
      "Rejection Region: more than: 6.178333333333335\n",
      "P-Value: 0.0\n"
     ]
    },
    {
     "data": {
      "image/png": "[encoded data removed]",
      "text/plain": [
       "<Figure size 432x288 with 1 Axes>"
      ]
     },
     "metadata": {
      "needs_background": "light"
     },
     "output_type": "display_data"
    }
   ],
   "source": [
    "dif, difference = bootstrap_testing(income_1.tolist(), income_6.tolist(), \"Less than 20k\", \" Greater than 100k\", \"greater\", 95)\n",
    "print(\"P-Value:\", (1-(stats.percentileofscore(diff, difference) / 100)))"
   ]
  },
  {
   "cell_type": "markdown",
   "metadata": {},
   "source": [
    "The difference locates in the rejection region. Rejecting the null hypothesis and accepting the alternative hypothesis, which means that the people earning less than \\\\$20,000 has a higher chance in getting depression than the people earning greater than \\\\$100,000 a year."
   ]
  },
  {
   "cell_type": "markdown",
   "metadata": {},
   "source": [
    "##### 2.4.6 conclusion\n",
    "From the bootstrap testings, we can see that at significant level of 0.05, People earning less than \\\\$20,000 has a statistically higher chance in getting depression than people have higher income. We can said that income level will effect the chance in getting depression and those who earning less than \\\\$20,000 a year has the highest chance in getting depression."
   ]
  },
  {
   "cell_type": "markdown",
   "metadata": {},
   "source": [
    "#### 2.5 Age aspect"
   ]
  },
  {
   "cell_type": "markdown",
   "metadata": {},
   "source": [
    "From the data visilization section we can see that age can be a factor which will affect the chance in getting depression. By sorting the mean of people got depression grouped by age, we can have the list:\n",
    "1. 55-64: 18.91\n",
    "2. 45-54: 15.06\n",
    "3. 65+  : 14.10\n",
    "4. 35-44: 13.23\n",
    "5. 18-34: 11.54   \n",
    "This list suggests that the people between 55-64 years old has the highest chance in getting depression. We will use bootstrap testing repeatlly, to exam whether the people in 55-64 years old has the highest chance in getting depression or not."
   ]
  },
  {
   "cell_type": "markdown",
   "metadata": {},
   "source": [
    "##### 2.5.1 55-64 vs 45-54\n",
    "* **Null Hypothesis:** People in 55-64 years old has the same chance in getting depression comparing with thsoe in 45-54 years old.\n",
    "* **Alternative Hypothesis:** People in 55-64 years old has the higher chance in getting depression than those who is 45-54 years old."
   ]
  },
  {
   "cell_type": "code",
   "execution_count": 36,
   "metadata": {},
   "outputs": [
    {
     "name": "stdout",
     "output_type": "stream",
     "text": [
      "Mean of 55-64 : 18.90833333333333\n",
      "Mean of 45-54 : 15.059999999999997\n",
      "Difference in means : 3.8483333333333345\n",
      "Rejection Region: more than: 2.4816666666666656\n",
      "P-Value: 0.00010000000000010001\n"
     ]
    },
    {
     "data": {
      "image/png": "[encoded data removed]",
      "text/plain": [
       "<Figure size 432x288 with 1 Axes>"
      ]
     },
     "metadata": {
      "needs_background": "light"
     },
     "output_type": "display_data"
    }
   ],
   "source": [
    "diff, difference = bootstrap_testing(age_4.tolist(), age_3.tolist(), \"55-64\", \"45-54\", \"greater\", 95)\n",
    "print(\"P-Value:\", (1-(stats.percentileofscore(diff, difference) / 100)))"
   ]
  },
  {
   "cell_type": "markdown",
   "metadata": {},
   "source": [
    "The difference locates inside of the rejection region, which requires us to reject the null hypothesis and to accept the alternative hypothesis. Thus, people in 55-64 years old is more likely to get depression than those in 45-54 years old."
   ]
  },
  {
   "cell_type": "markdown",
   "metadata": {},
   "source": [
    "##### 2.5.2 55-64 vs 65+\n",
    "* **Null Hypothesis:** People in 55-64 years old has the same chance in getting depression comparing with thsoe in 65+ years old.\n",
    "* **Alternative Hypothesis:** People in 55-64 years old has the higher chance in getting depression than those who is 65+ years old."
   ]
  },
  {
   "cell_type": "code",
   "execution_count": 37,
   "metadata": {},
   "outputs": [
    {
     "name": "stdout",
     "output_type": "stream",
     "text": [
      "Mean of 55-64 : 18.90833333333333\n",
      "Mean of 65+ : 14.104999999999999\n",
      "Difference in means : 4.803333333333333\n",
      "Rejection Region: more than: 2.9833333333333307\n",
      "P-Value: 0.00045000000000006146\n"
     ]
    },
    {
     "data": {
      "image/png": "[encoded data removed]",
      "text/plain": [
       "<Figure size 432x288 with 1 Axes>"
      ]
     },
     "metadata": {
      "needs_background": "light"
     },
     "output_type": "display_data"
    }
   ],
   "source": [
    "diff, difference = bootstrap_testing(age_4.tolist(), age_5.tolist(), \"55-64\", \"65+\", \"greater\", 95)\n",
    "print(\"P-Value:\", (1-(stats.percentileofscore(diff, difference) / 100)))"
   ]
  },
  {
   "cell_type": "markdown",
   "metadata": {},
   "source": [
    "The difference is in the rejection region, which needs us to reject the null hypothesis and accept the altenative hypothesis. That is, people in 55-64 years old has a higher chance in getting depression than people in 65+ years old."
   ]
  },
  {
   "cell_type": "markdown",
   "metadata": {},
   "source": [
    "##### 2.5.3 55-64 vs 35-44\n",
    "* **Null Hypothesis:** People in 55-64 years old has the same chance in getting depression comparing with thsoe in 35-44 years old.\n",
    "* **Alternative Hypothesis:** People in 55-64 years old has the higher chance in getting depression than those who is 35-44 years old."
   ]
  },
  {
   "cell_type": "code",
   "execution_count": 38,
   "metadata": {},
   "outputs": [
    {
     "name": "stdout",
     "output_type": "stream",
     "text": [
      "Mean of 55-64 : 18.90833333333333\n",
      "Mean of 35-44 : 13.265\n",
      "Difference in means : 5.643333333333331\n",
      "Rejection Region: more than: 3.7666666666666657\n",
      "P-Value: 0.005299999999999971\n"
     ]
    },
    {
     "data": {
      "image/png": "[encoded data removed]",
      "text/plain": [
       "<Figure size 432x288 with 1 Axes>"
      ]
     },
     "metadata": {
      "needs_background": "light"
     },
     "output_type": "display_data"
    }
   ],
   "source": [
    "diff, difference = bootstrap_testing(age_4.tolist(), age_2.tolist(), \"55-64\", \"35-44\", \"greater\", 95)\n",
    "print(\"P-Value:\", (1-(stats.percentileofscore(diff, difference) / 100)))"
   ]
  },
  {
   "cell_type": "markdown",
   "metadata": {},
   "source": [
    "The difference is in the rejection region, so we reject the null hypothesis and accept the alternative hypothesis. That shows people in 55-64 years old is more likely to get depression than people in 35-44 years old."
   ]
  },
  {
   "cell_type": "markdown",
   "metadata": {},
   "source": [
    "##### 2.5.4 55-64 vs 18-34\n",
    "* **Null Hypothesis:** People in 55-64 years old has the same chance in getting depression comparing with thsoe in 18-34 years old.\n",
    "* **Alternative Hypothesis:** People in 55-64 years old has the higher chance in getting depression than those who is 18-34 years old."
   ]
  },
  {
   "cell_type": "code",
   "execution_count": 39,
   "metadata": {},
   "outputs": [
    {
     "name": "stdout",
     "output_type": "stream",
     "text": [
      "Mean of 55-64 : 18.90833333333333\n",
      "Mean of 18-34 : 11.536666666666667\n",
      "Difference in means : 7.371666666666664\n",
      "Rejection Region: more than: 4.961666666666666\n",
      "P-Value: 0.005349999999999966\n"
     ]
    },
    {
     "data": {
      "image/png": "[encoded data removed]",
      "text/plain": [
       "<Figure size 432x288 with 1 Axes>"
      ]
     },
     "metadata": {
      "needs_background": "light"
     },
     "output_type": "display_data"
    }
   ],
   "source": [
    "diff, difference = bootstrap_testing(age_4.tolist(), age_1.tolist(), \"55-64\", \"18-34\", \"greater\", 95)\n",
    "print(\"P-Value:\", (1-(stats.percentileofscore(diff, difference) / 100)))"
   ]
  },
  {
   "cell_type": "markdown",
   "metadata": {},
   "source": [
    "The difference is in the rejection region. We can reject the null hypothesis and accept the alternative hypothesis. This indicates that people in 55-64 years old has a higher chance in getting depression than people in 18-34 years old."
   ]
  },
  {
   "cell_type": "markdown",
   "metadata": {},
   "source": [
    "##### 2.5.5 conclusion\n",
    "From the bootstrap testings we did above, we can see that the people in 55-64 years old is more likely to get depression than other ages. This finding can tell that the age effects people's chance in getting depression and the people in 55-64 years old are most likely get depression, at significant level of 0.005."
   ]
  },
  {
   "cell_type": "markdown",
   "metadata": {},
   "source": [
    "#### 2.6 Summary of Hypothesis Testing Section\n",
    "From the hypothesis testing we did above, we can tell that education gender, education level, races, income level and age can effect people's probability in getting depression.\n",
    "1. For gender aspect, female is more likely to get depression than male.\n",
    "2. For education aspect, college degree is a turning point. Having college graduate or post grad is less likely to get depression than having some college or less.\n",
    "3. For race aspect, among the named races, white people is more danger than other races; white people has the highest chance in getting depression comparing to other races\n",
    "4. For income aspect, people earning less than \\\\$20,000 are the group of people that has the highest chance in getting depression.\n",
    "5. For age aspect, people in 55-64 years old is most likely to get depression."
   ]
  },
  {
   "cell_type": "markdown",
   "metadata": {},
   "source": [
    "### 3 Regression"
   ]
  },
  {
   "cell_type": "code",
   "execution_count": 40,
   "metadata": {},
   "outputs": [],
   "source": [
    "def evaluate_linear_relationship(a, b):\n",
    "    slope = np.cov(a, b, bias=True)[0][1] / np.var(a)\n",
    "    intercept = np.mean(b) - (slope * np.mean(a))\n",
    "    predictions = (slope * a) + intercept\n",
    "    residuals = b - predictions\n",
    "    return slope, intercept, predictions, residuals"
   ]
  },
  {
   "cell_type": "code",
   "execution_count": 41,
   "metadata": {},
   "outputs": [],
   "source": [
    "year = []\n",
    "for i in range(2012, 2018):\n",
    "    year.append(i)"
   ]
  },
  {
   "cell_type": "code",
   "execution_count": 42,
   "metadata": {},
   "outputs": [
    {
     "data": {
      "text/plain": [
       "Text(0.5, 0.92, 'Percentage of people got depression vs. Years')"
      ]
     },
     "execution_count": 42,
     "metadata": {},
     "output_type": "execute_result"
    },
    {
     "data": {
      "image/png": "[encoded data removed]",
      "text/plain": [
       "<Figure size 360x360 with 1 Axes>"
      ]
     },
     "metadata": {
      "needs_background": "light"
     },
     "output_type": "display_data"
    }
   ],
   "source": [
    "fig = plt.figure(figsize =(5, 5))\n",
    "plt.scatter(year, percent_total)\n",
    "plt.ylabel(\"percentage of people got depression\")\n",
    "plt.xlabel(\"years\")\n",
    "plt.suptitle(\"Percentage of people got depression vs. Years\", fontsize = 10, y = 0.92)"
   ]
  },
  {
   "cell_type": "markdown",
   "metadata": {},
   "source": [
    "We can see that at 2017 the percentage of people got depression has a high increase. Since the data set doesn't provide enough data, we consider the 2017's total percentage of people got depression is an outliter."
   ]
  },
  {
   "cell_type": "code",
   "execution_count": 43,
   "metadata": {},
   "outputs": [
    {
     "name": "stdout",
     "output_type": "stream",
     "text": [
      "[2012 2013 2014 2015 2016]\n",
      "[11.74, 13.08, 13.3, 12.92, 13.77]\n"
     ]
    }
   ],
   "source": [
    "new_year = np.asarray(year[:len(year) - 1])\n",
    "print(new_year)\n",
    "new_total = percent_total[:len(percent_total) - 1].tolist()\n",
    "print(new_total)"
   ]
  },
  {
   "cell_type": "code",
   "execution_count": 44,
   "metadata": {},
   "outputs": [
    {
     "data": {
      "text/plain": [
       "Text(0.5, 0.92, 'Percentage of people got depression vs. Years')"
      ]
     },
     "execution_count": 44,
     "metadata": {},
     "output_type": "execute_result"
    },
    {
     "data": {
      "image/png": "[encoded data removed]",
      "text/plain": [
       "<Figure size 432x432 with 1 Axes>"
      ]
     },
     "metadata": {
      "needs_background": "light"
     },
     "output_type": "display_data"
    }
   ],
   "source": [
    "fig = plt.figure(figsize =(6,6))\n",
    "plt.scatter(new_year, new_total)\n",
    "plt.ylabel(\"percentage of people got depression\")\n",
    "plt.xlabel(\"years\")\n",
    "plt.suptitle(\"Percentage of people got depression vs. Years\", fontsize = 10, y = 0.92)"
   ]
  },
  {
   "cell_type": "code",
   "execution_count": 45,
   "metadata": {},
   "outputs": [],
   "source": [
    "slope, intercept, predictions, residuals = evaluate_linear_relationship(new_year, new_total)"
   ]
  },
  {
   "cell_type": "code",
   "execution_count": 46,
   "metadata": {},
   "outputs": [
    {
     "data": {
      "text/plain": [
       "Text(0.5, 0.92, 'Percentage of people got depression vs. Years')"
      ]
     },
     "execution_count": 46,
     "metadata": {},
     "output_type": "execute_result"
    },
    {
     "data": {
      "image/png": "[encoded data removed]",
      "text/plain": [
       "<Figure size 720x720 with 1 Axes>"
      ]
     },
     "metadata": {
      "needs_background": "light"
     },
     "output_type": "display_data"
    }
   ],
   "source": [
    "fig = plt.figure(figsize = (10, 10))\n",
    "plt.scatter(new_year, new_total)\n",
    "sorted_order = np.argsort(new_year)\n",
    "plt.plot(new_year[sorted_order], predictions[sorted_order])\n",
    "plt.xlabel(\"Year\")\n",
    "plt.ylabel(\"Percentage of people got depression\")\n",
    "plt.suptitle(\"Percentage of people got depression vs. Years\", fontsize = 12, y = 0.92)"
   ]
  },
  {
   "cell_type": "code",
   "execution_count": 47,
   "metadata": {},
   "outputs": [
    {
     "data": {
      "text/plain": [
       "Text(0.5, 0.92, 'Residuals')"
      ]
     },
     "execution_count": 47,
     "metadata": {},
     "output_type": "execute_result"
    },
    {
     "data": {
      "image/png": "[encoded data removed]",
      "text/plain": [
       "<Figure size 720x720 with 1 Axes>"
      ]
     },
     "metadata": {
      "needs_background": "light"
     },
     "output_type": "display_data"
    }
   ],
   "source": [
    "fig = plt.figure(figsize = (10, 10))\n",
    "plt.scatter(predictions, residuals)\n",
    "plt.plot([predictions.min(), predictions.max()], [0,0], linestyle = \"dotted\")\n",
    "plt.xlabel(\"Predictions\")\n",
    "plt.ylabel(\"Residuals\")\n",
    "fig.suptitle(\"Residuals\", fontsize = 12, y = 0.92)"
   ]
  },
  {
   "cell_type": "code",
   "execution_count": 48,
   "metadata": {},
   "outputs": [
    {
     "name": "stdout",
     "output_type": "stream",
     "text": [
      "Slope: 0.3899999999999999\n",
      "Correlation: 0.8174681592678833\n",
      "P-Value: 0.09100775190715722\n",
      "R Square: 0.6682541914167753\n"
     ]
    }
   ],
   "source": [
    "corr, p = stats.pearsonr(new_year, new_total)\n",
    "r_sq = np.var(predictions) / np.var(new_total)\n",
    "print(\"Slope:\", slope)\n",
    "print(\"Correlation:\", corr)\n",
    "print(\"P-Value:\", p)\n",
    "print(\"R Square:\", r_sq)"
   ]
  },
  {
   "cell_type": "markdown",
   "metadata": {},
   "source": [
    "The correlation of 0.82 suggests that the year and percentage of people got depression have a strong relation. The r^2 of 0.67 is the the 67% of the percentage data can be represented by the year. But since the data set is too small, we can make sure that the relation is linear even we have a high R square value. But the high correlation value can tell that the percentage of people got depression With a positive slope, the percentage of people got depression increase along with the increase of year."
   ]
  },
  {
   "cell_type": "markdown",
   "metadata": {},
   "source": [
    "### Summary\n",
    "By preferming the correlation analysis, we get a correlation of 0.81 and a slope of 0.39. Those two data suggest that percentage of people got depression increases accroding to the increase of year, in other word, more and more people get depression.  \n",
    "By preferming the hypothesis testings, we can learn that percentage of people got depression will be affected by gender, education level, race, income level or age.\n",
    "1. Female is more likely getting depression than male.\n",
    "2. Having college graduated or post grad is less likely getting depression than those who doesn't.\n",
    "3. White people is more likely getting depression than other races.\n",
    "4. People earning less than \\\\$20,000 a year is more likely getting depression than others who earns more.\n",
    "5. 55-64 years old is the age interval having highest chance in getting depression."
   ]
  },
  {
   "cell_type": "markdown",
   "metadata": {},
   "source": [
    "#### Self-assessment\n",
    "From this project, I enjoy the applying the knowledge we learned from the lectures to the real-world data. At the beginning when I found this data set I was quite happy that I found such a detailed and completed data set, even though it is somewhat out of date. But when I started working on it I found that this data set didn't provide many flexibility. Unlike the example projects, it was well categorized and I almost cannot have as many as data I can play with. This is the first limitation I came up with. The second challenge I met is refactoring. At the beginning when I worked on the hypothesis testing, I am not expected to preform bootstrap repeatlly. In fact, because my data isn't in normal distribution, I can only use bootstrap testing for the entire hypothesis testing section. When I realized I was working on the hypothesis testing for education aspect, which means I've already finished the testing for gender aspect and race aspcet by typing the similar code manually. So I create a function, bootstrap_testing, to make the work easier. And when I was testing this function, I met my thrid challenge. I used to put the p-value function inside of the integrated function, but I found that it's not working properly. When I kept it inside of the integraded function, it gave me a worng p-value, but with the same code, when I bring it out of the integrated fucntion, it worked. For more testing I found that the finding p-value function is not using the correct diff list, even though I specific the list as a parameter. Considering with the same code and same way of calling that function but end up with a difference result, I addressed it may be the scope problem. But I cannot come up with a way to fix this problem, I brought out the finding p-value funciton and called it outside of the integrated funcion.  \n",
    "I enjoy solving those challenges even though I can't have a solution for some of them. But the process that I was looking for a solution is really deeper my understanding on what we've learned and the Python language."
   ]
  },
  {
   "cell_type": "code",
   "execution_count": null,
   "metadata": {},
   "outputs": [],
   "source": []
  }
 ],
 "metadata": {
  "kernelspec": {
   "display_name": "Python 3",
   "language": "python",
   "name": "python3"
  },
  "language_info": {
   "codemirror_mode": {
    "name": "ipython",
    "version": 3
   },
   "file_extension": ".py",
   "mimetype": "text/x-python",
   "name": "python",
   "nbconvert_exporter": "python",
   "pygments_lexer": "ipython3",
   "version": "3.7.3"
  }
 },
 "nbformat": 4,
 "nbformat_minor": 2
}
